{
 "cells": [
  {
   "cell_type": "code",
   "execution_count": 1,
   "id": "9946ba8f-0319-465f-a57b-8a10afe2aa18",
   "metadata": {},
   "outputs": [],
   "source": [
    "import pandas as pd\n",
    "import numpy as np\n",
    "import matplotlib.pyplot as plt\n",
    "import seaborn as sns "
   ]
  },
  {
   "cell_type": "code",
   "execution_count": 3,
   "id": "39f1c41c-300c-4baa-a1e0-1c040a1299a5",
   "metadata": {},
   "outputs": [],
   "source": [
    "df = pd.read_csv(r\"C:\\Users\\LENOVO\\Desktop\\BR\\employee_survey.csv\")"
   ]
  },
  {
   "cell_type": "code",
   "execution_count": 5,
   "id": "0afcd968-631e-4028-8329-249b77b75eab",
   "metadata": {},
   "outputs": [
    {
     "data": {
      "text/html": [
       "<div>\n",
       "<style scoped>\n",
       "    .dataframe tbody tr th:only-of-type {\n",
       "        vertical-align: middle;\n",
       "    }\n",
       "\n",
       "    .dataframe tbody tr th {\n",
       "        vertical-align: top;\n",
       "    }\n",
       "\n",
       "    .dataframe thead th {\n",
       "        text-align: right;\n",
       "    }\n",
       "</style>\n",
       "<table border=\"1\" class=\"dataframe\">\n",
       "  <thead>\n",
       "    <tr style=\"text-align: right;\">\n",
       "      <th></th>\n",
       "      <th>EmpID</th>\n",
       "      <th>Gender</th>\n",
       "      <th>Age</th>\n",
       "      <th>MaritalStatus</th>\n",
       "      <th>JobLevel</th>\n",
       "      <th>Experience</th>\n",
       "      <th>Dept</th>\n",
       "      <th>EmpType</th>\n",
       "      <th>WLB(Work Life Balance)</th>\n",
       "      <th>WorkEnv</th>\n",
       "      <th>...</th>\n",
       "      <th>SleepHours</th>\n",
       "      <th>CommuteMode</th>\n",
       "      <th>CommuteDistance (KM)</th>\n",
       "      <th>NumCompanies</th>\n",
       "      <th>TeamSize</th>\n",
       "      <th>NumReports</th>\n",
       "      <th>EduLevel</th>\n",
       "      <th>haveOT (Overtime)</th>\n",
       "      <th>TrainingHoursPerYear</th>\n",
       "      <th>JobSatisfaction</th>\n",
       "    </tr>\n",
       "  </thead>\n",
       "  <tbody>\n",
       "    <tr>\n",
       "      <th>0</th>\n",
       "      <td>6</td>\n",
       "      <td>Male</td>\n",
       "      <td>32</td>\n",
       "      <td>Married</td>\n",
       "      <td>Mid</td>\n",
       "      <td>7</td>\n",
       "      <td>IT</td>\n",
       "      <td>Full-Time</td>\n",
       "      <td>1</td>\n",
       "      <td>1</td>\n",
       "      <td>...</td>\n",
       "      <td>7.6</td>\n",
       "      <td>Car</td>\n",
       "      <td>20</td>\n",
       "      <td>3</td>\n",
       "      <td>12</td>\n",
       "      <td>0</td>\n",
       "      <td>Bachelor</td>\n",
       "      <td>True</td>\n",
       "      <td>33.5</td>\n",
       "      <td>5</td>\n",
       "    </tr>\n",
       "    <tr>\n",
       "      <th>1</th>\n",
       "      <td>11</td>\n",
       "      <td>Female</td>\n",
       "      <td>34</td>\n",
       "      <td>Married</td>\n",
       "      <td>Mid</td>\n",
       "      <td>12</td>\n",
       "      <td>Finance</td>\n",
       "      <td>Full-Time</td>\n",
       "      <td>1</td>\n",
       "      <td>1</td>\n",
       "      <td>...</td>\n",
       "      <td>7.9</td>\n",
       "      <td>Car</td>\n",
       "      <td>15</td>\n",
       "      <td>4</td>\n",
       "      <td>11</td>\n",
       "      <td>0</td>\n",
       "      <td>Bachelor</td>\n",
       "      <td>False</td>\n",
       "      <td>36.0</td>\n",
       "      <td>5</td>\n",
       "    </tr>\n",
       "    <tr>\n",
       "      <th>2</th>\n",
       "      <td>33</td>\n",
       "      <td>Female</td>\n",
       "      <td>23</td>\n",
       "      <td>Single</td>\n",
       "      <td>Intern/Fresher</td>\n",
       "      <td>1</td>\n",
       "      <td>Marketing</td>\n",
       "      <td>Full-Time</td>\n",
       "      <td>2</td>\n",
       "      <td>4</td>\n",
       "      <td>...</td>\n",
       "      <td>6.5</td>\n",
       "      <td>Motorbike</td>\n",
       "      <td>17</td>\n",
       "      <td>0</td>\n",
       "      <td>30</td>\n",
       "      <td>0</td>\n",
       "      <td>Bachelor</td>\n",
       "      <td>True</td>\n",
       "      <td>10.5</td>\n",
       "      <td>5</td>\n",
       "    </tr>\n",
       "    <tr>\n",
       "      <th>3</th>\n",
       "      <td>20</td>\n",
       "      <td>Female</td>\n",
       "      <td>29</td>\n",
       "      <td>Married</td>\n",
       "      <td>Junior</td>\n",
       "      <td>6</td>\n",
       "      <td>IT</td>\n",
       "      <td>Contract</td>\n",
       "      <td>2</td>\n",
       "      <td>2</td>\n",
       "      <td>...</td>\n",
       "      <td>7.5</td>\n",
       "      <td>Public Transport</td>\n",
       "      <td>13</td>\n",
       "      <td>2</td>\n",
       "      <td>9</td>\n",
       "      <td>0</td>\n",
       "      <td>Bachelor</td>\n",
       "      <td>True</td>\n",
       "      <td>23.0</td>\n",
       "      <td>5</td>\n",
       "    </tr>\n",
       "    <tr>\n",
       "      <th>4</th>\n",
       "      <td>28</td>\n",
       "      <td>Other</td>\n",
       "      <td>23</td>\n",
       "      <td>Single</td>\n",
       "      <td>Junior</td>\n",
       "      <td>1</td>\n",
       "      <td>Sales</td>\n",
       "      <td>Part-Time</td>\n",
       "      <td>3</td>\n",
       "      <td>1</td>\n",
       "      <td>...</td>\n",
       "      <td>4.9</td>\n",
       "      <td>Car</td>\n",
       "      <td>20</td>\n",
       "      <td>0</td>\n",
       "      <td>7</td>\n",
       "      <td>0</td>\n",
       "      <td>Bachelor</td>\n",
       "      <td>False</td>\n",
       "      <td>20.5</td>\n",
       "      <td>5</td>\n",
       "    </tr>\n",
       "  </tbody>\n",
       "</table>\n",
       "<p>5 rows × 23 columns</p>\n",
       "</div>"
      ],
      "text/plain": [
       "   EmpID  Gender  Age MaritalStatus        JobLevel  Experience       Dept  \\\n",
       "0      6    Male   32       Married             Mid           7         IT   \n",
       "1     11  Female   34       Married             Mid          12    Finance   \n",
       "2     33  Female   23        Single  Intern/Fresher           1  Marketing   \n",
       "3     20  Female   29       Married          Junior           6         IT   \n",
       "4     28   Other   23        Single          Junior           1      Sales   \n",
       "\n",
       "     EmpType  WLB(Work Life Balance)  WorkEnv  ...  SleepHours  \\\n",
       "0  Full-Time                       1        1  ...         7.6   \n",
       "1  Full-Time                       1        1  ...         7.9   \n",
       "2  Full-Time                       2        4  ...         6.5   \n",
       "3   Contract                       2        2  ...         7.5   \n",
       "4  Part-Time                       3        1  ...         4.9   \n",
       "\n",
       "        CommuteMode  CommuteDistance (KM)  NumCompanies TeamSize  NumReports  \\\n",
       "0               Car                    20             3       12           0   \n",
       "1               Car                    15             4       11           0   \n",
       "2         Motorbike                    17             0       30           0   \n",
       "3  Public Transport                    13             2        9           0   \n",
       "4               Car                    20             0        7           0   \n",
       "\n",
       "   EduLevel  haveOT (Overtime)  TrainingHoursPerYear JobSatisfaction  \n",
       "0  Bachelor               True                  33.5               5  \n",
       "1  Bachelor              False                  36.0               5  \n",
       "2  Bachelor               True                  10.5               5  \n",
       "3  Bachelor               True                  23.0               5  \n",
       "4  Bachelor              False                  20.5               5  \n",
       "\n",
       "[5 rows x 23 columns]"
      ]
     },
     "execution_count": 5,
     "metadata": {},
     "output_type": "execute_result"
    }
   ],
   "source": [
    "df.head()"
   ]
  },
  {
   "cell_type": "code",
   "execution_count": 17,
   "id": "07b234ec-2729-48e3-8751-27895f2422a8",
   "metadata": {},
   "outputs": [],
   "source": [
    "pd.set_option('display.max_rows', None)\n",
    "pd.set_option('display.max_columns', None)"
   ]
  },
  {
   "cell_type": "code",
   "execution_count": 19,
   "id": "2487e460-992c-43cf-921e-d547f02edf85",
   "metadata": {},
   "outputs": [
    {
     "data": {
      "text/html": [
       "<div>\n",
       "<style scoped>\n",
       "    .dataframe tbody tr th:only-of-type {\n",
       "        vertical-align: middle;\n",
       "    }\n",
       "\n",
       "    .dataframe tbody tr th {\n",
       "        vertical-align: top;\n",
       "    }\n",
       "\n",
       "    .dataframe thead th {\n",
       "        text-align: right;\n",
       "    }\n",
       "</style>\n",
       "<table border=\"1\" class=\"dataframe\">\n",
       "  <thead>\n",
       "    <tr style=\"text-align: right;\">\n",
       "      <th></th>\n",
       "      <th>EmpID</th>\n",
       "      <th>Gender</th>\n",
       "      <th>Age</th>\n",
       "      <th>MaritalStatus</th>\n",
       "      <th>JobLevel</th>\n",
       "      <th>Experience</th>\n",
       "      <th>Dept</th>\n",
       "      <th>EmpType</th>\n",
       "      <th>WLB(Work Life Balance)</th>\n",
       "      <th>WorkEnv</th>\n",
       "      <th>PhysicalActivityHours(Weekly)</th>\n",
       "      <th>Workload</th>\n",
       "      <th>Stress</th>\n",
       "      <th>SleepHours</th>\n",
       "      <th>CommuteMode</th>\n",
       "      <th>CommuteDistance (KM)</th>\n",
       "      <th>NumCompanies</th>\n",
       "      <th>TeamSize</th>\n",
       "      <th>NumReports</th>\n",
       "      <th>EduLevel</th>\n",
       "      <th>haveOT (Overtime)</th>\n",
       "      <th>TrainingHoursPerYear</th>\n",
       "      <th>JobSatisfaction</th>\n",
       "    </tr>\n",
       "  </thead>\n",
       "  <tbody>\n",
       "    <tr>\n",
       "      <th>0</th>\n",
       "      <td>6</td>\n",
       "      <td>Male</td>\n",
       "      <td>32</td>\n",
       "      <td>Married</td>\n",
       "      <td>Mid</td>\n",
       "      <td>7</td>\n",
       "      <td>IT</td>\n",
       "      <td>Full-Time</td>\n",
       "      <td>1</td>\n",
       "      <td>1</td>\n",
       "      <td>2.5</td>\n",
       "      <td>2</td>\n",
       "      <td>1</td>\n",
       "      <td>7.6</td>\n",
       "      <td>Car</td>\n",
       "      <td>20</td>\n",
       "      <td>3</td>\n",
       "      <td>12</td>\n",
       "      <td>0</td>\n",
       "      <td>Bachelor</td>\n",
       "      <td>True</td>\n",
       "      <td>33.5</td>\n",
       "      <td>5</td>\n",
       "    </tr>\n",
       "    <tr>\n",
       "      <th>1</th>\n",
       "      <td>11</td>\n",
       "      <td>Female</td>\n",
       "      <td>34</td>\n",
       "      <td>Married</td>\n",
       "      <td>Mid</td>\n",
       "      <td>12</td>\n",
       "      <td>Finance</td>\n",
       "      <td>Full-Time</td>\n",
       "      <td>1</td>\n",
       "      <td>1</td>\n",
       "      <td>1.8</td>\n",
       "      <td>2</td>\n",
       "      <td>2</td>\n",
       "      <td>7.9</td>\n",
       "      <td>Car</td>\n",
       "      <td>15</td>\n",
       "      <td>4</td>\n",
       "      <td>11</td>\n",
       "      <td>0</td>\n",
       "      <td>Bachelor</td>\n",
       "      <td>False</td>\n",
       "      <td>36.0</td>\n",
       "      <td>5</td>\n",
       "    </tr>\n",
       "    <tr>\n",
       "      <th>2</th>\n",
       "      <td>33</td>\n",
       "      <td>Female</td>\n",
       "      <td>23</td>\n",
       "      <td>Single</td>\n",
       "      <td>Intern/Fresher</td>\n",
       "      <td>1</td>\n",
       "      <td>Marketing</td>\n",
       "      <td>Full-Time</td>\n",
       "      <td>2</td>\n",
       "      <td>4</td>\n",
       "      <td>2.1</td>\n",
       "      <td>5</td>\n",
       "      <td>4</td>\n",
       "      <td>6.5</td>\n",
       "      <td>Motorbike</td>\n",
       "      <td>17</td>\n",
       "      <td>0</td>\n",
       "      <td>30</td>\n",
       "      <td>0</td>\n",
       "      <td>Bachelor</td>\n",
       "      <td>True</td>\n",
       "      <td>10.5</td>\n",
       "      <td>5</td>\n",
       "    </tr>\n",
       "    <tr>\n",
       "      <th>3</th>\n",
       "      <td>20</td>\n",
       "      <td>Female</td>\n",
       "      <td>29</td>\n",
       "      <td>Married</td>\n",
       "      <td>Junior</td>\n",
       "      <td>6</td>\n",
       "      <td>IT</td>\n",
       "      <td>Contract</td>\n",
       "      <td>2</td>\n",
       "      <td>2</td>\n",
       "      <td>1.9</td>\n",
       "      <td>3</td>\n",
       "      <td>1</td>\n",
       "      <td>7.5</td>\n",
       "      <td>Public Transport</td>\n",
       "      <td>13</td>\n",
       "      <td>2</td>\n",
       "      <td>9</td>\n",
       "      <td>0</td>\n",
       "      <td>Bachelor</td>\n",
       "      <td>True</td>\n",
       "      <td>23.0</td>\n",
       "      <td>5</td>\n",
       "    </tr>\n",
       "    <tr>\n",
       "      <th>4</th>\n",
       "      <td>28</td>\n",
       "      <td>Other</td>\n",
       "      <td>23</td>\n",
       "      <td>Single</td>\n",
       "      <td>Junior</td>\n",
       "      <td>1</td>\n",
       "      <td>Sales</td>\n",
       "      <td>Part-Time</td>\n",
       "      <td>3</td>\n",
       "      <td>1</td>\n",
       "      <td>3.7</td>\n",
       "      <td>2</td>\n",
       "      <td>1</td>\n",
       "      <td>4.9</td>\n",
       "      <td>Car</td>\n",
       "      <td>20</td>\n",
       "      <td>0</td>\n",
       "      <td>7</td>\n",
       "      <td>0</td>\n",
       "      <td>Bachelor</td>\n",
       "      <td>False</td>\n",
       "      <td>20.5</td>\n",
       "      <td>5</td>\n",
       "    </tr>\n",
       "  </tbody>\n",
       "</table>\n",
       "</div>"
      ],
      "text/plain": [
       "   EmpID  Gender  Age MaritalStatus        JobLevel  Experience       Dept  \\\n",
       "0      6    Male   32       Married             Mid           7         IT   \n",
       "1     11  Female   34       Married             Mid          12    Finance   \n",
       "2     33  Female   23        Single  Intern/Fresher           1  Marketing   \n",
       "3     20  Female   29       Married          Junior           6         IT   \n",
       "4     28   Other   23        Single          Junior           1      Sales   \n",
       "\n",
       "     EmpType  WLB(Work Life Balance)  WorkEnv  PhysicalActivityHours(Weekly)  \\\n",
       "0  Full-Time                       1        1                            2.5   \n",
       "1  Full-Time                       1        1                            1.8   \n",
       "2  Full-Time                       2        4                            2.1   \n",
       "3   Contract                       2        2                            1.9   \n",
       "4  Part-Time                       3        1                            3.7   \n",
       "\n",
       "   Workload  Stress  SleepHours       CommuteMode  CommuteDistance (KM)  \\\n",
       "0         2       1         7.6               Car                    20   \n",
       "1         2       2         7.9               Car                    15   \n",
       "2         5       4         6.5         Motorbike                    17   \n",
       "3         3       1         7.5  Public Transport                    13   \n",
       "4         2       1         4.9               Car                    20   \n",
       "\n",
       "   NumCompanies  TeamSize  NumReports  EduLevel  haveOT (Overtime)  \\\n",
       "0             3        12           0  Bachelor               True   \n",
       "1             4        11           0  Bachelor              False   \n",
       "2             0        30           0  Bachelor               True   \n",
       "3             2         9           0  Bachelor               True   \n",
       "4             0         7           0  Bachelor              False   \n",
       "\n",
       "   TrainingHoursPerYear  JobSatisfaction  \n",
       "0                  33.5                5  \n",
       "1                  36.0                5  \n",
       "2                  10.5                5  \n",
       "3                  23.0                5  \n",
       "4                  20.5                5  "
      ]
     },
     "execution_count": 19,
     "metadata": {},
     "output_type": "execute_result"
    }
   ],
   "source": [
    "df.head()"
   ]
  },
  {
   "cell_type": "code",
   "execution_count": null,
   "id": "15ec7735-27fd-4a7a-8661-a2c33df835e9",
   "metadata": {},
   "outputs": [],
   "source": [
    "##1. What is the distribution of job satisfaction scores among employees? "
   ]
  },
  {
   "cell_type": "code",
   "execution_count": 29,
   "id": "dee7e209-bbea-40b7-bb3b-e66198f0caf3",
   "metadata": {},
   "outputs": [
    {
     "data": {
      "text/plain": [
       "JobSatisfaction\n",
       "4    1249\n",
       "3     566\n",
       "5     516\n",
       "1     417\n",
       "2     277\n",
       "Name: count, dtype: int64"
      ]
     },
     "execution_count": 29,
     "metadata": {},
     "output_type": "execute_result"
    }
   ],
   "source": [
    "df['JobSatisfaction'].value_counts().sort_values(ascending = False)"
   ]
  },
  {
   "cell_type": "code",
   "execution_count": null,
   "id": "9a9e0571-75e8-4f64-a69c-a41cbd74c671",
   "metadata": {},
   "outputs": [],
   "source": [
    "##2. How does work-life balance (WLB) vary across different departments?  "
   ]
  },
  {
   "cell_type": "code",
   "execution_count": 33,
   "id": "80227c07-54d2-4192-98d8-85032d7750dd",
   "metadata": {},
   "outputs": [
    {
     "data": {
      "text/plain": [
       "Dept\n",
       "Customer Service    2.761905\n",
       "Finance             3.097331\n",
       "HR                  2.769231\n",
       "IT                  3.050388\n",
       "Legal               3.102941\n",
       "Marketing           3.142405\n",
       "Operations          3.061538\n",
       "Sales               3.181495\n",
       "Name: WLB(Work Life Balance), dtype: float64"
      ]
     },
     "execution_count": 33,
     "metadata": {},
     "output_type": "execute_result"
    }
   ],
   "source": [
    "df.groupby(\"Dept\")[\"WLB(Work Life Balance)\"].mean()"
   ]
  },
  {
   "cell_type": "code",
   "execution_count": null,
   "id": "092a05d5-f676-44d6-8d4b-9428052976df",
   "metadata": {},
   "outputs": [],
   "source": [
    "##3. Is there a correlation between physical activity hours and stress levels?  "
   ]
  },
  {
   "cell_type": "code",
   "execution_count": 37,
   "id": "54ca6aa9-3020-4dc4-ad4e-a7e043aa2a49",
   "metadata": {},
   "outputs": [
    {
     "data": {
      "text/plain": [
       "-0.011802598172823482"
      ]
     },
     "execution_count": 37,
     "metadata": {},
     "output_type": "execute_result"
    }
   ],
   "source": [
    "df['PhysicalActivityHours(Weekly)'].corr(df['Stress'])"
   ]
  },
  {
   "cell_type": "code",
   "execution_count": null,
   "id": "9744b8b7-6cea-4658-9760-c4c32d0f12e8",
   "metadata": {},
   "outputs": [],
   "source": [
    "\"\"\"The correlation  between both variables is a negative, which means there's absolutely no correlation\"\"\""
   ]
  },
  {
   "cell_type": "code",
   "execution_count": null,
   "id": "b0309927-80d2-45a8-a22d-bcb0af6fb500",
   "metadata": {},
   "outputs": [],
   "source": [
    "##4. How does commute distance affect sleep hours among employees?  "
   ]
  },
  {
   "cell_type": "code",
   "execution_count": 41,
   "id": "c8e6563d-21f4-451a-89dc-ffd544d284cf",
   "metadata": {},
   "outputs": [
    {
     "data": {
      "text/plain": [
       "0.036100623137312216"
      ]
     },
     "execution_count": 41,
     "metadata": {},
     "output_type": "execute_result"
    }
   ],
   "source": [
    "df[\"CommuteDistance (KM)\"].corr(df[\"SleepHours\"])"
   ]
  },
  {
   "cell_type": "code",
   "execution_count": 43,
   "id": "c19003f0-bab4-40f2-9c55-b65a67c9a005",
   "metadata": {},
   "outputs": [
    {
     "data": {
      "text/plain": [
       "\"Commute distance doesn't impact on sleephours\""
      ]
     },
     "execution_count": 43,
     "metadata": {},
     "output_type": "execute_result"
    }
   ],
   "source": [
    "\"\"\"Commute distance doesn't impact on sleephours\"\"\""
   ]
  },
  {
   "cell_type": "code",
   "execution_count": null,
   "id": "d26cdddf-a9e0-4a42-be06-6bd18ea882c2",
   "metadata": {},
   "outputs": [],
   "source": [
    "##5. What is the average job satisfaction score for employees who work overtime versus those who don’t? "
   ]
  },
  {
   "cell_type": "code",
   "execution_count": 55,
   "id": "55f3cf2b-4208-498e-857f-af1469983845",
   "metadata": {},
   "outputs": [
    {
     "data": {
      "text/plain": [
       "(3.1004273504273505, 3.515078985160364)"
      ]
     },
     "execution_count": 55,
     "metadata": {},
     "output_type": "execute_result"
    }
   ],
   "source": [
    "employees = df.groupby(\"haveOT (Overtime)\")[\"JobSatisfaction\"].mean()\n",
    "employees_with_overtime = employees[True]\n",
    "employees_without_overtime = employees[False]\n",
    "employees_with_overtime, employees_without_overtime"
   ]
  },
  {
   "cell_type": "code",
   "execution_count": 57,
   "id": "4e47d221-50ee-4c68-bd4f-59bc5f6985e3",
   "metadata": {},
   "outputs": [],
   "source": [
    "##6. How does job satisfaction differ between full-time and part-time employees?  "
   ]
  },
  {
   "cell_type": "code",
   "execution_count": 63,
   "id": "5235e216-e9ed-4747-9a66-e1603de21388",
   "metadata": {},
   "outputs": [],
   "source": [
    "employee_sat = df.groupby(\"EmpType\")[\"JobSatisfaction\"].mean()"
   ]
  },
  {
   "cell_type": "code",
   "execution_count": 67,
   "id": "3f2dad16-3e64-4803-8139-fb56edc666d6",
   "metadata": {},
   "outputs": [
    {
     "data": {
      "text/html": [
       "<div>\n",
       "<style scoped>\n",
       "    .dataframe tbody tr th:only-of-type {\n",
       "        vertical-align: middle;\n",
       "    }\n",
       "\n",
       "    .dataframe tbody tr th {\n",
       "        vertical-align: top;\n",
       "    }\n",
       "\n",
       "    .dataframe thead th {\n",
       "        text-align: right;\n",
       "    }\n",
       "</style>\n",
       "<table border=\"1\" class=\"dataframe\">\n",
       "  <thead>\n",
       "    <tr style=\"text-align: right;\">\n",
       "      <th></th>\n",
       "      <th>EmpType</th>\n",
       "      <th>JobSatisfaction</th>\n",
       "    </tr>\n",
       "  </thead>\n",
       "  <tbody>\n",
       "    <tr>\n",
       "      <th>0</th>\n",
       "      <td>Full-Time</td>\n",
       "      <td>3.400096</td>\n",
       "    </tr>\n",
       "    <tr>\n",
       "      <th>1</th>\n",
       "      <td>Part-Time</td>\n",
       "      <td>3.348438</td>\n",
       "    </tr>\n",
       "  </tbody>\n",
       "</table>\n",
       "</div>"
      ],
      "text/plain": [
       "     EmpType  JobSatisfaction\n",
       "0  Full-Time         3.400096\n",
       "1  Part-Time         3.348438"
      ]
     },
     "execution_count": 67,
     "metadata": {},
     "output_type": "execute_result"
    }
   ],
   "source": [
    "employee_sat[[\"Full-Time\",\"Part-Time\"]].reset_index()"
   ]
  },
  {
   "cell_type": "code",
   "execution_count": 69,
   "id": "a321d5a9-fa47-4efc-8d3f-596c42177c00",
   "metadata": {},
   "outputs": [],
   "source": [
    "##7. Are there differences in stress levels between employees of different marital statuses?  "
   ]
  },
  {
   "cell_type": "code",
   "execution_count": 75,
   "id": "d6fcec01-b856-4933-a4cf-a5037bef5d4f",
   "metadata": {},
   "outputs": [
    {
     "data": {
      "text/html": [
       "<div>\n",
       "<style scoped>\n",
       "    .dataframe tbody tr th:only-of-type {\n",
       "        vertical-align: middle;\n",
       "    }\n",
       "\n",
       "    .dataframe tbody tr th {\n",
       "        vertical-align: top;\n",
       "    }\n",
       "\n",
       "    .dataframe thead th {\n",
       "        text-align: right;\n",
       "    }\n",
       "</style>\n",
       "<table border=\"1\" class=\"dataframe\">\n",
       "  <thead>\n",
       "    <tr style=\"text-align: right;\">\n",
       "      <th></th>\n",
       "      <th>MaritalStatus</th>\n",
       "      <th>Stress Levels</th>\n",
       "    </tr>\n",
       "  </thead>\n",
       "  <tbody>\n",
       "    <tr>\n",
       "      <th>0</th>\n",
       "      <td>Divorced</td>\n",
       "      <td>1.629630</td>\n",
       "    </tr>\n",
       "    <tr>\n",
       "      <th>1</th>\n",
       "      <td>Married</td>\n",
       "      <td>1.751611</td>\n",
       "    </tr>\n",
       "    <tr>\n",
       "      <th>2</th>\n",
       "      <td>Single</td>\n",
       "      <td>1.736952</td>\n",
       "    </tr>\n",
       "    <tr>\n",
       "      <th>3</th>\n",
       "      <td>Widowed</td>\n",
       "      <td>1.000000</td>\n",
       "    </tr>\n",
       "  </tbody>\n",
       "</table>\n",
       "</div>"
      ],
      "text/plain": [
       "  MaritalStatus  Stress Levels\n",
       "0      Divorced       1.629630\n",
       "1       Married       1.751611\n",
       "2        Single       1.736952\n",
       "3       Widowed       1.000000"
      ]
     },
     "execution_count": 75,
     "metadata": {},
     "output_type": "execute_result"
    }
   ],
   "source": [
    "df.groupby(\"MaritalStatus\")[\"Stress\"].mean().reset_index(name = \"Stress Levels\")"
   ]
  },
  {
   "cell_type": "code",
   "execution_count": null,
   "id": "76e2cb3b-27d2-48e2-b26b-a4848f968495",
   "metadata": {},
   "outputs": [],
   "source": [
    "##8. How does workload impact job satisfaction across different job levels?  "
   ]
  },
  {
   "cell_type": "code",
   "execution_count": 81,
   "id": "1f19f7b3-bd67-47d4-9bc3-939d00867707",
   "metadata": {},
   "outputs": [
    {
     "data": {
      "text/html": [
       "<div>\n",
       "<style scoped>\n",
       "    .dataframe tbody tr th:only-of-type {\n",
       "        vertical-align: middle;\n",
       "    }\n",
       "\n",
       "    .dataframe tbody tr th {\n",
       "        vertical-align: top;\n",
       "    }\n",
       "\n",
       "    .dataframe thead th {\n",
       "        text-align: right;\n",
       "    }\n",
       "</style>\n",
       "<table border=\"1\" class=\"dataframe\">\n",
       "  <thead>\n",
       "    <tr style=\"text-align: right;\">\n",
       "      <th></th>\n",
       "      <th></th>\n",
       "      <th>Workload</th>\n",
       "      <th>JobSatisfaction</th>\n",
       "    </tr>\n",
       "    <tr>\n",
       "      <th>JobLevel</th>\n",
       "      <th></th>\n",
       "      <th></th>\n",
       "      <th></th>\n",
       "    </tr>\n",
       "  </thead>\n",
       "  <tbody>\n",
       "    <tr>\n",
       "      <th rowspan=\"2\" valign=\"top\">Intern/Fresher</th>\n",
       "      <th>Workload</th>\n",
       "      <td>1.000000</td>\n",
       "      <td>-0.208160</td>\n",
       "    </tr>\n",
       "    <tr>\n",
       "      <th>JobSatisfaction</th>\n",
       "      <td>-0.208160</td>\n",
       "      <td>1.000000</td>\n",
       "    </tr>\n",
       "    <tr>\n",
       "      <th rowspan=\"2\" valign=\"top\">Junior</th>\n",
       "      <th>Workload</th>\n",
       "      <td>1.000000</td>\n",
       "      <td>-0.275658</td>\n",
       "    </tr>\n",
       "    <tr>\n",
       "      <th>JobSatisfaction</th>\n",
       "      <td>-0.275658</td>\n",
       "      <td>1.000000</td>\n",
       "    </tr>\n",
       "    <tr>\n",
       "      <th rowspan=\"2\" valign=\"top\">Lead</th>\n",
       "      <th>Workload</th>\n",
       "      <td>1.000000</td>\n",
       "      <td>-0.249570</td>\n",
       "    </tr>\n",
       "    <tr>\n",
       "      <th>JobSatisfaction</th>\n",
       "      <td>-0.249570</td>\n",
       "      <td>1.000000</td>\n",
       "    </tr>\n",
       "    <tr>\n",
       "      <th rowspan=\"2\" valign=\"top\">Mid</th>\n",
       "      <th>Workload</th>\n",
       "      <td>1.000000</td>\n",
       "      <td>-0.257160</td>\n",
       "    </tr>\n",
       "    <tr>\n",
       "      <th>JobSatisfaction</th>\n",
       "      <td>-0.257160</td>\n",
       "      <td>1.000000</td>\n",
       "    </tr>\n",
       "    <tr>\n",
       "      <th rowspan=\"2\" valign=\"top\">Senior</th>\n",
       "      <th>Workload</th>\n",
       "      <td>1.000000</td>\n",
       "      <td>-0.246076</td>\n",
       "    </tr>\n",
       "    <tr>\n",
       "      <th>JobSatisfaction</th>\n",
       "      <td>-0.246076</td>\n",
       "      <td>1.000000</td>\n",
       "    </tr>\n",
       "  </tbody>\n",
       "</table>\n",
       "</div>"
      ],
      "text/plain": [
       "                                Workload  JobSatisfaction\n",
       "JobLevel                                                 \n",
       "Intern/Fresher Workload         1.000000        -0.208160\n",
       "               JobSatisfaction -0.208160         1.000000\n",
       "Junior         Workload         1.000000        -0.275658\n",
       "               JobSatisfaction -0.275658         1.000000\n",
       "Lead           Workload         1.000000        -0.249570\n",
       "               JobSatisfaction -0.249570         1.000000\n",
       "Mid            Workload         1.000000        -0.257160\n",
       "               JobSatisfaction -0.257160         1.000000\n",
       "Senior         Workload         1.000000        -0.246076\n",
       "               JobSatisfaction -0.246076         1.000000"
      ]
     },
     "execution_count": 81,
     "metadata": {},
     "output_type": "execute_result"
    }
   ],
   "source": [
    "workload_impact_across_levels = df.groupby(\"JobLevel\")[[\"Workload\",\"JobSatisfaction\"]].corr()\n",
    "workload_impact_across_levels"
   ]
  },
  {
   "cell_type": "code",
   "execution_count": null,
   "id": "5372c03e-96a7-4c3e-843b-02e7950f7264",
   "metadata": {},
   "outputs": [],
   "source": [
    "##9. What is the relationship between age and job satisfaction?  "
   ]
  },
  {
   "cell_type": "code",
   "execution_count": 83,
   "id": "5d262fb9-52b0-4fc1-b036-eac50c9fb5b5",
   "metadata": {},
   "outputs": [
    {
     "data": {
      "text/plain": [
       "-0.006432835742474092"
      ]
     },
     "execution_count": 83,
     "metadata": {},
     "output_type": "execute_result"
    }
   ],
   "source": [
    "df[\"Age\"].corr(df[\"JobSatisfaction\"])"
   ]
  },
  {
   "cell_type": "code",
   "execution_count": 85,
   "id": "fedd593e-91f4-48cb-9d61-18b4905ddb61",
   "metadata": {},
   "outputs": [
    {
     "data": {
      "text/plain": [
       "'No correlation, so not much of a relationship there'"
      ]
     },
     "execution_count": 85,
     "metadata": {},
     "output_type": "execute_result"
    }
   ],
   "source": [
    "\"\"\"No correlation, so not much of a relationship there\"\"\""
   ]
  },
  {
   "cell_type": "code",
   "execution_count": null,
   "id": "63107cef-4492-477b-bcb0-8177e5904837",
   "metadata": {},
   "outputs": [],
   "source": [
    "##10. How does the number of companies an employee has worked for affect their current job satisfaction?  "
   ]
  },
  {
   "cell_type": "code",
   "execution_count": 91,
   "id": "7c01b0c2-bf5c-49e5-9b5a-ef438dd6a4d2",
   "metadata": {},
   "outputs": [
    {
     "data": {
      "text/plain": [
       "-0.0039287101855759185"
      ]
     },
     "execution_count": 91,
     "metadata": {},
     "output_type": "execute_result"
    }
   ],
   "source": [
    "df[\"NumCompanies\"].corr(df[\"JobSatisfaction\"])"
   ]
  },
  {
   "cell_type": "code",
   "execution_count": null,
   "id": "f1968432-0239-4487-ba64-d0b4e289288b",
   "metadata": {},
   "outputs": [],
   "source": [
    "##11. Does the size of the team an employee works in influence their job satisfaction?  "
   ]
  },
  {
   "cell_type": "code",
   "execution_count": 95,
   "id": "0e851176-2961-4a87-88d2-1c56aa03a76b",
   "metadata": {},
   "outputs": [
    {
     "data": {
      "text/plain": [
       "0.002340998833948775"
      ]
     },
     "execution_count": 95,
     "metadata": {},
     "output_type": "execute_result"
    }
   ],
   "source": [
    "df[\"TeamSize\"].corr(df['JobSatisfaction'])"
   ]
  },
  {
   "cell_type": "code",
   "execution_count": null,
   "id": "527621e6-5d9b-435b-963b-c2ccf88fa65a",
   "metadata": {},
   "outputs": [],
   "source": [
    "##12. How does job satisfaction vary between employees with different educational levels?  "
   ]
  },
  {
   "cell_type": "code",
   "execution_count": 101,
   "id": "885893fa-71f2-4bc6-ad25-c46d1863ba52",
   "metadata": {},
   "outputs": [
    {
     "data": {
      "text/html": [
       "<div>\n",
       "<style scoped>\n",
       "    .dataframe tbody tr th:only-of-type {\n",
       "        vertical-align: middle;\n",
       "    }\n",
       "\n",
       "    .dataframe tbody tr th {\n",
       "        vertical-align: top;\n",
       "    }\n",
       "\n",
       "    .dataframe thead th {\n",
       "        text-align: right;\n",
       "    }\n",
       "</style>\n",
       "<table border=\"1\" class=\"dataframe\">\n",
       "  <thead>\n",
       "    <tr style=\"text-align: right;\">\n",
       "      <th></th>\n",
       "      <th>EduLevel</th>\n",
       "      <th>JobSatisfaction</th>\n",
       "    </tr>\n",
       "  </thead>\n",
       "  <tbody>\n",
       "    <tr>\n",
       "      <th>0</th>\n",
       "      <td>Bachelor</td>\n",
       "      <td>3.345652</td>\n",
       "    </tr>\n",
       "    <tr>\n",
       "      <th>1</th>\n",
       "      <td>High School</td>\n",
       "      <td>3.432653</td>\n",
       "    </tr>\n",
       "    <tr>\n",
       "      <th>2</th>\n",
       "      <td>Master</td>\n",
       "      <td>3.728947</td>\n",
       "    </tr>\n",
       "    <tr>\n",
       "      <th>3</th>\n",
       "      <td>PhD</td>\n",
       "      <td>2.920000</td>\n",
       "    </tr>\n",
       "  </tbody>\n",
       "</table>\n",
       "</div>"
      ],
      "text/plain": [
       "      EduLevel  JobSatisfaction\n",
       "0     Bachelor         3.345652\n",
       "1  High School         3.432653\n",
       "2       Master         3.728947\n",
       "3          PhD         2.920000"
      ]
     },
     "execution_count": 101,
     "metadata": {},
     "output_type": "execute_result"
    }
   ],
   "source": [
    "df.groupby(\"EduLevel\")[\"JobSatisfaction\"].mean().reset_index()"
   ]
  },
  {
   "cell_type": "code",
   "execution_count": null,
   "id": "15ce7910-a291-4baf-af44-d791bd7b803c",
   "metadata": {},
   "outputs": [],
   "source": [
    "##13. Is there a relationship between training hours per year and job satisfaction?  "
   ]
  },
  {
   "cell_type": "code",
   "execution_count": 105,
   "id": "d193a059-34f4-4b03-8309-6ca9aec51520",
   "metadata": {},
   "outputs": [
    {
     "data": {
      "text/plain": [
       "-0.005604895706623596"
      ]
     },
     "execution_count": 105,
     "metadata": {},
     "output_type": "execute_result"
    }
   ],
   "source": [
    "df[\"TrainingHoursPerYear\"].corr(df[\"JobSatisfaction\"])"
   ]
  },
  {
   "cell_type": "code",
   "execution_count": 109,
   "id": "51b9ca27-d487-4a55-82f0-99349634a07c",
   "metadata": {},
   "outputs": [
    {
     "data": {
      "text/plain": [
       "'No relationship'"
      ]
     },
     "execution_count": 109,
     "metadata": {},
     "output_type": "execute_result"
    }
   ],
   "source": [
    "\"\"\"No relationship\"\"\""
   ]
  },
  {
   "cell_type": "code",
   "execution_count": null,
   "id": "185ae5b7-3a40-4aa2-a9a0-a989fd7870ec",
   "metadata": {},
   "outputs": [],
   "source": [
    "##14. How does job satisfaction differ between employees who use different commute modes? "
   ]
  },
  {
   "cell_type": "code",
   "execution_count": 113,
   "id": "f4fc4427-0a44-40d6-bae4-6a2dbb3c9ee3",
   "metadata": {},
   "outputs": [
    {
     "data": {
      "text/html": [
       "<div>\n",
       "<style scoped>\n",
       "    .dataframe tbody tr th:only-of-type {\n",
       "        vertical-align: middle;\n",
       "    }\n",
       "\n",
       "    .dataframe tbody tr th {\n",
       "        vertical-align: top;\n",
       "    }\n",
       "\n",
       "    .dataframe thead th {\n",
       "        text-align: right;\n",
       "    }\n",
       "</style>\n",
       "<table border=\"1\" class=\"dataframe\">\n",
       "  <thead>\n",
       "    <tr style=\"text-align: right;\">\n",
       "      <th></th>\n",
       "      <th>CommuteMode</th>\n",
       "      <th>JobSatisfaction</th>\n",
       "    </tr>\n",
       "  </thead>\n",
       "  <tbody>\n",
       "    <tr>\n",
       "      <th>0</th>\n",
       "      <td>Bike</td>\n",
       "      <td>3.350917</td>\n",
       "    </tr>\n",
       "    <tr>\n",
       "      <th>1</th>\n",
       "      <td>Car</td>\n",
       "      <td>3.446182</td>\n",
       "    </tr>\n",
       "    <tr>\n",
       "      <th>2</th>\n",
       "      <td>Motorbike</td>\n",
       "      <td>3.435484</td>\n",
       "    </tr>\n",
       "    <tr>\n",
       "      <th>3</th>\n",
       "      <td>Public Transport</td>\n",
       "      <td>3.318436</td>\n",
       "    </tr>\n",
       "    <tr>\n",
       "      <th>4</th>\n",
       "      <td>Walk</td>\n",
       "      <td>3.377104</td>\n",
       "    </tr>\n",
       "  </tbody>\n",
       "</table>\n",
       "</div>"
      ],
      "text/plain": [
       "        CommuteMode  JobSatisfaction\n",
       "0              Bike         3.350917\n",
       "1               Car         3.446182\n",
       "2         Motorbike         3.435484\n",
       "3  Public Transport         3.318436\n",
       "4              Walk         3.377104"
      ]
     },
     "execution_count": 113,
     "metadata": {},
     "output_type": "execute_result"
    }
   ],
   "source": [
    "df.groupby(\"CommuteMode\")[\"JobSatisfaction\"].mean().reset_index()"
   ]
  },
  {
   "cell_type": "code",
   "execution_count": null,
   "id": "9a3ad469-ffb8-4bb6-a618-6f5c192679f2",
   "metadata": {},
   "outputs": [],
   "source": [
    "##15. Are employees with higher work-life balance scores more likely to report higher job satisfaction? "
   ]
  },
  {
   "cell_type": "code",
   "execution_count": 135,
   "id": "1b5eb51a-b06a-4027-b101-63d1749a9319",
   "metadata": {},
   "outputs": [
    {
     "data": {
      "text/plain": [
       "0.2596872800125277"
      ]
     },
     "execution_count": 135,
     "metadata": {},
     "output_type": "execute_result"
    }
   ],
   "source": [
    "df['WLB(Work Life Balance)'].corr(df[\"JobSatisfaction\"])"
   ]
  },
  {
   "cell_type": "code",
   "execution_count": 165,
   "id": "167bdf35-b013-4299-8400-6f1cb3d2c60d",
   "metadata": {},
   "outputs": [
    {
     "data": {
      "text/plain": [
       "\"It's a positive correlation — as one variable increases, the other tends to increase too.\\nBut it’s weak — the relationship exists but isn’t strong or consistent.\""
      ]
     },
     "execution_count": 165,
     "metadata": {},
     "output_type": "execute_result"
    }
   ],
   "source": [
    "\"\"\"It's a positive correlation — as one variable increases, the other tends to increase too.\n",
    "But it’s weak — the relationship exists but isn’t strong or consistent.\"\"\""
   ]
  },
  {
   "cell_type": "code",
   "execution_count": null,
   "id": "cb65b2a0-0219-4087-beac-52a68d199fbb",
   "metadata": {},
   "outputs": [],
   "source": [
    "##16. How does job satisfaction vary between employees in different job levels (e.g., Junior, Mid, Senior)?  "
   ]
  },
  {
   "cell_type": "code",
   "execution_count": 139,
   "id": "169ac43a-4e8a-403e-944b-a871d5618e30",
   "metadata": {},
   "outputs": [
    {
     "data": {
      "text/html": [
       "<div>\n",
       "<style scoped>\n",
       "    .dataframe tbody tr th:only-of-type {\n",
       "        vertical-align: middle;\n",
       "    }\n",
       "\n",
       "    .dataframe tbody tr th {\n",
       "        vertical-align: top;\n",
       "    }\n",
       "\n",
       "    .dataframe thead th {\n",
       "        text-align: right;\n",
       "    }\n",
       "</style>\n",
       "<table border=\"1\" class=\"dataframe\">\n",
       "  <thead>\n",
       "    <tr style=\"text-align: right;\">\n",
       "      <th></th>\n",
       "      <th>JobLevel</th>\n",
       "      <th>JobSatisfaction</th>\n",
       "    </tr>\n",
       "  </thead>\n",
       "  <tbody>\n",
       "    <tr>\n",
       "      <th>0</th>\n",
       "      <td>Intern/Fresher</td>\n",
       "      <td>3.356436</td>\n",
       "    </tr>\n",
       "    <tr>\n",
       "      <th>1</th>\n",
       "      <td>Junior</td>\n",
       "      <td>3.377076</td>\n",
       "    </tr>\n",
       "    <tr>\n",
       "      <th>2</th>\n",
       "      <td>Lead</td>\n",
       "      <td>3.316062</td>\n",
       "    </tr>\n",
       "    <tr>\n",
       "      <th>3</th>\n",
       "      <td>Mid</td>\n",
       "      <td>3.407311</td>\n",
       "    </tr>\n",
       "    <tr>\n",
       "      <th>4</th>\n",
       "      <td>Senior</td>\n",
       "      <td>3.408793</td>\n",
       "    </tr>\n",
       "  </tbody>\n",
       "</table>\n",
       "</div>"
      ],
      "text/plain": [
       "         JobLevel  JobSatisfaction\n",
       "0  Intern/Fresher         3.356436\n",
       "1          Junior         3.377076\n",
       "2            Lead         3.316062\n",
       "3             Mid         3.407311\n",
       "4          Senior         3.408793"
      ]
     },
     "execution_count": 139,
     "metadata": {},
     "output_type": "execute_result"
    }
   ],
   "source": [
    "df.groupby(\"JobLevel\")['JobSatisfaction'].mean().reset_index()"
   ]
  },
  {
   "cell_type": "code",
   "execution_count": null,
   "id": "99954246-ae76-48d2-b471-e9a76fe6953c",
   "metadata": {},
   "outputs": [],
   "source": [
    "##17. Is there a correlation between sleep hours and job satisfaction? "
   ]
  },
  {
   "cell_type": "code",
   "execution_count": 143,
   "id": "f5c1e252-31a2-4a73-9d3a-1e8a569d323e",
   "metadata": {},
   "outputs": [
    {
     "data": {
      "text/plain": [
       "0.17987180889446475"
      ]
     },
     "execution_count": 143,
     "metadata": {},
     "output_type": "execute_result"
    }
   ],
   "source": [
    "df['SleepHours'].corr(df['JobSatisfaction'])"
   ]
  },
  {
   "cell_type": "code",
   "execution_count": null,
   "id": "cf3aaa4e-3c17-479f-aeea-7319ccf06884",
   "metadata": {},
   "outputs": [],
   "source": []
  },
  {
   "cell_type": "code",
   "execution_count": null,
   "id": "daacbbfe-9900-4bbe-9616-0eae8c4036c7",
   "metadata": {},
   "outputs": [],
   "source": [
    "##18. How does job satisfaction differ between employees with and without overtime?"
   ]
  },
  {
   "cell_type": "code",
   "execution_count": 149,
   "id": "15d0677f-7050-4e53-af29-217616586fed",
   "metadata": {},
   "outputs": [
    {
     "data": {
      "text/html": [
       "<div>\n",
       "<style scoped>\n",
       "    .dataframe tbody tr th:only-of-type {\n",
       "        vertical-align: middle;\n",
       "    }\n",
       "\n",
       "    .dataframe tbody tr th {\n",
       "        vertical-align: top;\n",
       "    }\n",
       "\n",
       "    .dataframe thead th {\n",
       "        text-align: right;\n",
       "    }\n",
       "</style>\n",
       "<table border=\"1\" class=\"dataframe\">\n",
       "  <thead>\n",
       "    <tr style=\"text-align: right;\">\n",
       "      <th></th>\n",
       "      <th>haveOT (Overtime)</th>\n",
       "      <th>JobSatisfaction</th>\n",
       "    </tr>\n",
       "  </thead>\n",
       "  <tbody>\n",
       "    <tr>\n",
       "      <th>0</th>\n",
       "      <td>False</td>\n",
       "      <td>3.515079</td>\n",
       "    </tr>\n",
       "    <tr>\n",
       "      <th>1</th>\n",
       "      <td>True</td>\n",
       "      <td>3.100427</td>\n",
       "    </tr>\n",
       "  </tbody>\n",
       "</table>\n",
       "</div>"
      ],
      "text/plain": [
       "   haveOT (Overtime)  JobSatisfaction\n",
       "0              False         3.515079\n",
       "1               True         3.100427"
      ]
     },
     "execution_count": 149,
     "metadata": {},
     "output_type": "execute_result"
    }
   ],
   "source": [
    "df.groupby(\"haveOT (Overtime)\")[\"JobSatisfaction\"].mean().reset_index()"
   ]
  },
  {
   "cell_type": "code",
   "execution_count": null,
   "id": "10d5dea9-b02b-40f1-a040-f4005fe4436f",
   "metadata": {},
   "outputs": [],
   "source": [
    "##19. What is the relationship between work environment ratings and job satisfaction?  "
   ]
  },
  {
   "cell_type": "code",
   "execution_count": 157,
   "id": "2dfd1982-dd77-461f-bf50-dbb1559ce63b",
   "metadata": {},
   "outputs": [
    {
     "data": {
      "text/plain": [
       "0.24873001927225785"
      ]
     },
     "execution_count": 157,
     "metadata": {},
     "output_type": "execute_result"
    }
   ],
   "source": [
    "\"\"\"using pearson and spearman\"\"\"\n",
    "pearson_method = df[\"WorkEnv\"].corr(df['JobSatisfaction'], method = 'pearson')\n",
    "pearson_method"
   ]
  },
  {
   "cell_type": "code",
   "execution_count": 159,
   "id": "6f072434-155b-4306-8789-61a91d316153",
   "metadata": {},
   "outputs": [
    {
     "data": {
      "text/plain": [
       "0.25035517979545674"
      ]
     },
     "execution_count": 159,
     "metadata": {},
     "output_type": "execute_result"
    }
   ],
   "source": [
    "spearman_method = df[\"WorkEnv\"].corr(df['JobSatisfaction'], method = 'spearman')\n",
    "spearman_method"
   ]
  },
  {
   "cell_type": "code",
   "execution_count": 161,
   "id": "89916d53-c9f3-4306-8cd0-f28c46b0611e",
   "metadata": {},
   "outputs": [
    {
     "data": {
      "text/plain": [
       "<Axes: xlabel='WorkEnv', ylabel='JobSatisfaction'>"
      ]
     },
     "execution_count": 161,
     "metadata": {},
     "output_type": "execute_result"
    },
    {
     "data": {
      "image/png": "[encoded data removed]",
      "text/plain": [
       "<Figure size 640x480 with 1 Axes>"
      ]
     },
     "metadata": {},
     "output_type": "display_data"
    }
   ],
   "source": [
    "sns.scatterplot(x = \"WorkEnv\", y = 'JobSatisfaction', data = df)"
   ]
  },
  {
   "cell_type": "code",
   "execution_count": null,
   "id": "3445900e-7bcd-4837-b3bf-a8717a530026",
   "metadata": {},
   "outputs": [],
   "source": []
  },
  {
   "cell_type": "code",
   "execution_count": null,
   "id": "0f6e8343-318c-4933-bbaf-c9b6ac69613f",
   "metadata": {},
   "outputs": [],
   "source": [
    "##20. Are there differences in job satisfaction between employees of different genders?  "
   ]
  },
  {
   "cell_type": "code",
   "execution_count": 169,
   "id": "b720f2f2-f28e-44b6-9798-2d2a0dc45c3d",
   "metadata": {},
   "outputs": [
    {
     "data": {
      "text/plain": [
       "Gender\n",
       "Female    3.393548\n",
       "Male      3.371073\n",
       "Other     3.447471\n",
       "Name: JobSatisfaction, dtype: float64"
      ]
     },
     "execution_count": 169,
     "metadata": {},
     "output_type": "execute_result"
    }
   ],
   "source": [
    "df.groupby(\"Gender\")[\"JobSatisfaction\"].mean()"
   ]
  },
  {
   "cell_type": "code",
   "execution_count": null,
   "id": "65d8bcad-142a-458c-be1a-55a5fdbdcbf5",
   "metadata": {},
   "outputs": [],
   "source": [
    "##21. How does job satisfaction vary based on the number of reports an employee has? "
   ]
  },
  {
   "cell_type": "code",
   "execution_count": 175,
   "id": "6a65f55c-c68b-4c73-aa44-d84bc9352791",
   "metadata": {},
   "outputs": [
    {
     "data": {
      "text/plain": [
       "NumReports\n",
       "0    3.389172\n",
       "1    3.283237\n",
       "2    3.620253\n",
       "3    3.442308\n",
       "4    3.475676\n",
       "5    3.474074\n",
       "6    3.281437\n",
       "7    3.298246\n",
       "8    3.342105\n",
       "9    3.259494\n",
       "Name: JobSatisfaction, dtype: float64"
      ]
     },
     "execution_count": 175,
     "metadata": {},
     "output_type": "execute_result"
    }
   ],
   "source": [
    "df.groupby(\"NumReports\")[\"JobSatisfaction\"].mean()"
   ]
  },
  {
   "cell_type": "code",
   "execution_count": 177,
   "id": "d4b7e656-caf6-455d-bfc7-33989311e375",
   "metadata": {},
   "outputs": [
    {
     "data": {
      "text/plain": [
       "-0.02061069138313293"
      ]
     },
     "execution_count": 177,
     "metadata": {},
     "output_type": "execute_result"
    }
   ],
   "source": [
    "df['NumReports'].corr(df[\"JobSatisfaction\"], method = \"pearson\")"
   ]
  },
  {
   "cell_type": "code",
   "execution_count": null,
   "id": "379241d9-62a4-4856-ba0b-ca30859d1a96",
   "metadata": {},
   "outputs": [],
   "source": [
    "##22. Is there a relationship between commute distance and job satisfaction?"
   ]
  },
  {
   "cell_type": "code",
   "execution_count": 183,
   "id": "248e0b72-e097-4165-b9ee-61734e5055df",
   "metadata": {},
   "outputs": [
    {
     "data": {
      "text/plain": [
       "0.0007733230806719511"
      ]
     },
     "execution_count": 183,
     "metadata": {},
     "output_type": "execute_result"
    }
   ],
   "source": [
    "df['CommuteDistance (KM)'].corr(df[\"JobSatisfaction\"], method = \"pearson\")"
   ]
  },
  {
   "cell_type": "code",
   "execution_count": 185,
   "id": "0ed2a781-8676-4c66-aed1-99c87479f1ea",
   "metadata": {},
   "outputs": [
    {
     "data": {
      "text/plain": [
       "<Axes: xlabel='CommuteDistance (KM)', ylabel='JobSatisfaction'>"
      ]
     },
     "execution_count": 185,
     "metadata": {},
     "output_type": "execute_result"
    },
    {
     "data": {
      "image/png": "[encoded data removed]",
      "text/plain": [
       "<Figure size 640x480 with 1 Axes>"
      ]
     },
     "metadata": {},
     "output_type": "display_data"
    }
   ],
   "source": [
    "sns.scatterplot(x = 'CommuteDistance (KM)', y = \"JobSatisfaction\", data = df)"
   ]
  },
  {
   "cell_type": "code",
   "execution_count": null,
   "id": "c652e14b-03e0-43eb-b732-925602e88524",
   "metadata": {},
   "outputs": [],
   "source": [
    "##23. How does job satisfaction differ between employees in different age groups? "
   ]
  },
  {
   "cell_type": "code",
   "execution_count": 205,
   "id": "20f60bf2-bc71-448c-9af7-192f18756b08",
   "metadata": {},
   "outputs": [],
   "source": [
    "bins = [20, 25,30,35,40,45,50,55,60,65]"
   ]
  },
  {
   "cell_type": "code",
   "execution_count": 207,
   "id": "2c05f0b9-5d90-4074-85db-57ca2cbe770a",
   "metadata": {},
   "outputs": [],
   "source": [
    "labels = [\"20-25\",\"26-30\",\"31-35\",\"36-40\",\"41-45\",\"45-50\",\"51-55\",\"56-60\",\"61-65\"]"
   ]
  },
  {
   "cell_type": "code",
   "execution_count": 209,
   "id": "1fa91894-48c2-4da4-b83b-3e4c2bdf0f9c",
   "metadata": {},
   "outputs": [],
   "source": [
    "df[\"Age_groups\"] = pd.cut(df[\"Age\"], bins = bins, labels = labels)"
   ]
  },
  {
   "cell_type": "code",
   "execution_count": 211,
   "id": "a0e18c18-3e94-471a-a0ac-25b2c8c9c996",
   "metadata": {},
   "outputs": [
    {
     "data": {
      "text/html": [
       "<div>\n",
       "<style scoped>\n",
       "    .dataframe tbody tr th:only-of-type {\n",
       "        vertical-align: middle;\n",
       "    }\n",
       "\n",
       "    .dataframe tbody tr th {\n",
       "        vertical-align: top;\n",
       "    }\n",
       "\n",
       "    .dataframe thead th {\n",
       "        text-align: right;\n",
       "    }\n",
       "</style>\n",
       "<table border=\"1\" class=\"dataframe\">\n",
       "  <thead>\n",
       "    <tr style=\"text-align: right;\">\n",
       "      <th></th>\n",
       "      <th>EmpID</th>\n",
       "      <th>Gender</th>\n",
       "      <th>Age</th>\n",
       "      <th>MaritalStatus</th>\n",
       "      <th>JobLevel</th>\n",
       "      <th>Experience</th>\n",
       "      <th>Dept</th>\n",
       "      <th>EmpType</th>\n",
       "      <th>WLB(Work Life Balance)</th>\n",
       "      <th>WorkEnv</th>\n",
       "      <th>PhysicalActivityHours(Weekly)</th>\n",
       "      <th>Workload</th>\n",
       "      <th>Stress</th>\n",
       "      <th>SleepHours</th>\n",
       "      <th>CommuteMode</th>\n",
       "      <th>CommuteDistance (KM)</th>\n",
       "      <th>NumCompanies</th>\n",
       "      <th>TeamSize</th>\n",
       "      <th>NumReports</th>\n",
       "      <th>EduLevel</th>\n",
       "      <th>haveOT (Overtime)</th>\n",
       "      <th>TrainingHoursPerYear</th>\n",
       "      <th>JobSatisfaction</th>\n",
       "      <th>Age_groups</th>\n",
       "    </tr>\n",
       "  </thead>\n",
       "  <tbody>\n",
       "    <tr>\n",
       "      <th>0</th>\n",
       "      <td>6</td>\n",
       "      <td>Male</td>\n",
       "      <td>32</td>\n",
       "      <td>Married</td>\n",
       "      <td>Mid</td>\n",
       "      <td>7</td>\n",
       "      <td>IT</td>\n",
       "      <td>Full-Time</td>\n",
       "      <td>1</td>\n",
       "      <td>1</td>\n",
       "      <td>2.5</td>\n",
       "      <td>2</td>\n",
       "      <td>1</td>\n",
       "      <td>7.6</td>\n",
       "      <td>Car</td>\n",
       "      <td>20</td>\n",
       "      <td>3</td>\n",
       "      <td>12</td>\n",
       "      <td>0</td>\n",
       "      <td>Bachelor</td>\n",
       "      <td>True</td>\n",
       "      <td>33.5</td>\n",
       "      <td>5</td>\n",
       "      <td>31-35</td>\n",
       "    </tr>\n",
       "    <tr>\n",
       "      <th>1</th>\n",
       "      <td>11</td>\n",
       "      <td>Female</td>\n",
       "      <td>34</td>\n",
       "      <td>Married</td>\n",
       "      <td>Mid</td>\n",
       "      <td>12</td>\n",
       "      <td>Finance</td>\n",
       "      <td>Full-Time</td>\n",
       "      <td>1</td>\n",
       "      <td>1</td>\n",
       "      <td>1.8</td>\n",
       "      <td>2</td>\n",
       "      <td>2</td>\n",
       "      <td>7.9</td>\n",
       "      <td>Car</td>\n",
       "      <td>15</td>\n",
       "      <td>4</td>\n",
       "      <td>11</td>\n",
       "      <td>0</td>\n",
       "      <td>Bachelor</td>\n",
       "      <td>False</td>\n",
       "      <td>36.0</td>\n",
       "      <td>5</td>\n",
       "      <td>31-35</td>\n",
       "    </tr>\n",
       "    <tr>\n",
       "      <th>2</th>\n",
       "      <td>33</td>\n",
       "      <td>Female</td>\n",
       "      <td>23</td>\n",
       "      <td>Single</td>\n",
       "      <td>Intern/Fresher</td>\n",
       "      <td>1</td>\n",
       "      <td>Marketing</td>\n",
       "      <td>Full-Time</td>\n",
       "      <td>2</td>\n",
       "      <td>4</td>\n",
       "      <td>2.1</td>\n",
       "      <td>5</td>\n",
       "      <td>4</td>\n",
       "      <td>6.5</td>\n",
       "      <td>Motorbike</td>\n",
       "      <td>17</td>\n",
       "      <td>0</td>\n",
       "      <td>30</td>\n",
       "      <td>0</td>\n",
       "      <td>Bachelor</td>\n",
       "      <td>True</td>\n",
       "      <td>10.5</td>\n",
       "      <td>5</td>\n",
       "      <td>20-25</td>\n",
       "    </tr>\n",
       "    <tr>\n",
       "      <th>3</th>\n",
       "      <td>20</td>\n",
       "      <td>Female</td>\n",
       "      <td>29</td>\n",
       "      <td>Married</td>\n",
       "      <td>Junior</td>\n",
       "      <td>6</td>\n",
       "      <td>IT</td>\n",
       "      <td>Contract</td>\n",
       "      <td>2</td>\n",
       "      <td>2</td>\n",
       "      <td>1.9</td>\n",
       "      <td>3</td>\n",
       "      <td>1</td>\n",
       "      <td>7.5</td>\n",
       "      <td>Public Transport</td>\n",
       "      <td>13</td>\n",
       "      <td>2</td>\n",
       "      <td>9</td>\n",
       "      <td>0</td>\n",
       "      <td>Bachelor</td>\n",
       "      <td>True</td>\n",
       "      <td>23.0</td>\n",
       "      <td>5</td>\n",
       "      <td>26-30</td>\n",
       "    </tr>\n",
       "    <tr>\n",
       "      <th>4</th>\n",
       "      <td>28</td>\n",
       "      <td>Other</td>\n",
       "      <td>23</td>\n",
       "      <td>Single</td>\n",
       "      <td>Junior</td>\n",
       "      <td>1</td>\n",
       "      <td>Sales</td>\n",
       "      <td>Part-Time</td>\n",
       "      <td>3</td>\n",
       "      <td>1</td>\n",
       "      <td>3.7</td>\n",
       "      <td>2</td>\n",
       "      <td>1</td>\n",
       "      <td>4.9</td>\n",
       "      <td>Car</td>\n",
       "      <td>20</td>\n",
       "      <td>0</td>\n",
       "      <td>7</td>\n",
       "      <td>0</td>\n",
       "      <td>Bachelor</td>\n",
       "      <td>False</td>\n",
       "      <td>20.5</td>\n",
       "      <td>5</td>\n",
       "      <td>20-25</td>\n",
       "    </tr>\n",
       "  </tbody>\n",
       "</table>\n",
       "</div>"
      ],
      "text/plain": [
       "   EmpID  Gender  Age MaritalStatus        JobLevel  Experience       Dept  \\\n",
       "0      6    Male   32       Married             Mid           7         IT   \n",
       "1     11  Female   34       Married             Mid          12    Finance   \n",
       "2     33  Female   23        Single  Intern/Fresher           1  Marketing   \n",
       "3     20  Female   29       Married          Junior           6         IT   \n",
       "4     28   Other   23        Single          Junior           1      Sales   \n",
       "\n",
       "     EmpType  WLB(Work Life Balance)  WorkEnv  PhysicalActivityHours(Weekly)  \\\n",
       "0  Full-Time                       1        1                            2.5   \n",
       "1  Full-Time                       1        1                            1.8   \n",
       "2  Full-Time                       2        4                            2.1   \n",
       "3   Contract                       2        2                            1.9   \n",
       "4  Part-Time                       3        1                            3.7   \n",
       "\n",
       "   Workload  Stress  SleepHours       CommuteMode  CommuteDistance (KM)  \\\n",
       "0         2       1         7.6               Car                    20   \n",
       "1         2       2         7.9               Car                    15   \n",
       "2         5       4         6.5         Motorbike                    17   \n",
       "3         3       1         7.5  Public Transport                    13   \n",
       "4         2       1         4.9               Car                    20   \n",
       "\n",
       "   NumCompanies  TeamSize  NumReports  EduLevel  haveOT (Overtime)  \\\n",
       "0             3        12           0  Bachelor               True   \n",
       "1             4        11           0  Bachelor              False   \n",
       "2             0        30           0  Bachelor               True   \n",
       "3             2         9           0  Bachelor               True   \n",
       "4             0         7           0  Bachelor              False   \n",
       "\n",
       "   TrainingHoursPerYear  JobSatisfaction Age_groups  \n",
       "0                  33.5                5      31-35  \n",
       "1                  36.0                5      31-35  \n",
       "2                  10.5                5      20-25  \n",
       "3                  23.0                5      26-30  \n",
       "4                  20.5                5      20-25  "
      ]
     },
     "execution_count": 211,
     "metadata": {},
     "output_type": "execute_result"
    }
   ],
   "source": [
    "df.head()"
   ]
  },
  {
   "cell_type": "code",
   "execution_count": 215,
   "id": "4f87a495-e2a6-48cb-a099-5ad015c515d8",
   "metadata": {},
   "outputs": [
    {
     "name": "stderr",
     "output_type": "stream",
     "text": [
      "C:\\Users\\LENOVO\\AppData\\Local\\Temp\\ipykernel_11332\\1151119381.py:1: FutureWarning: The default of observed=False is deprecated and will be changed to True in a future version of pandas. Pass observed=False to retain current behavior or observed=True to adopt the future default and silence this warning.\n",
      "  df.groupby(\"Age_groups\")[\"JobSatisfaction\"].mean().reset_index()\n"
     ]
    },
    {
     "data": {
      "text/html": [
       "<div>\n",
       "<style scoped>\n",
       "    .dataframe tbody tr th:only-of-type {\n",
       "        vertical-align: middle;\n",
       "    }\n",
       "\n",
       "    .dataframe tbody tr th {\n",
       "        vertical-align: top;\n",
       "    }\n",
       "\n",
       "    .dataframe thead th {\n",
       "        text-align: right;\n",
       "    }\n",
       "</style>\n",
       "<table border=\"1\" class=\"dataframe\">\n",
       "  <thead>\n",
       "    <tr style=\"text-align: right;\">\n",
       "      <th></th>\n",
       "      <th>Age_groups</th>\n",
       "      <th>JobSatisfaction</th>\n",
       "    </tr>\n",
       "  </thead>\n",
       "  <tbody>\n",
       "    <tr>\n",
       "      <th>0</th>\n",
       "      <td>20-25</td>\n",
       "      <td>3.363790</td>\n",
       "    </tr>\n",
       "    <tr>\n",
       "      <th>1</th>\n",
       "      <td>26-30</td>\n",
       "      <td>3.438462</td>\n",
       "    </tr>\n",
       "    <tr>\n",
       "      <th>2</th>\n",
       "      <td>31-35</td>\n",
       "      <td>3.400000</td>\n",
       "    </tr>\n",
       "    <tr>\n",
       "      <th>3</th>\n",
       "      <td>36-40</td>\n",
       "      <td>3.359848</td>\n",
       "    </tr>\n",
       "    <tr>\n",
       "      <th>4</th>\n",
       "      <td>41-45</td>\n",
       "      <td>3.388889</td>\n",
       "    </tr>\n",
       "    <tr>\n",
       "      <th>5</th>\n",
       "      <td>45-50</td>\n",
       "      <td>3.464945</td>\n",
       "    </tr>\n",
       "    <tr>\n",
       "      <th>6</th>\n",
       "      <td>51-55</td>\n",
       "      <td>3.301724</td>\n",
       "    </tr>\n",
       "    <tr>\n",
       "      <th>7</th>\n",
       "      <td>56-60</td>\n",
       "      <td>3.319328</td>\n",
       "    </tr>\n",
       "    <tr>\n",
       "      <th>8</th>\n",
       "      <td>61-65</td>\n",
       "      <td>NaN</td>\n",
       "    </tr>\n",
       "  </tbody>\n",
       "</table>\n",
       "</div>"
      ],
      "text/plain": [
       "  Age_groups  JobSatisfaction\n",
       "0      20-25         3.363790\n",
       "1      26-30         3.438462\n",
       "2      31-35         3.400000\n",
       "3      36-40         3.359848\n",
       "4      41-45         3.388889\n",
       "5      45-50         3.464945\n",
       "6      51-55         3.301724\n",
       "7      56-60         3.319328\n",
       "8      61-65              NaN"
      ]
     },
     "execution_count": 215,
     "metadata": {},
     "output_type": "execute_result"
    }
   ],
   "source": [
    "df.groupby(\"Age_groups\")[\"JobSatisfaction\"].mean().reset_index()"
   ]
  },
  {
   "cell_type": "code",
   "execution_count": null,
   "id": "b771efb6-c52d-4774-8596-f4efa9cc0ad0",
   "metadata": {},
   "outputs": [],
   "source": [
    "##24. Are employees with higher physical activity hours more likely to report lower stress levels?"
   ]
  },
  {
   "cell_type": "code",
   "execution_count": 222,
   "id": "d306ff4a-eaec-4989-9ae5-060251ef0e73",
   "metadata": {},
   "outputs": [
    {
     "data": {
      "text/plain": [
       "-0.009777989964974376"
      ]
     },
     "execution_count": 222,
     "metadata": {},
     "output_type": "execute_result"
    }
   ],
   "source": [
    "df['PhysicalActivityHours(Weekly)'].corr(df['Stress'], method = 'spearman')"
   ]
  },
  {
   "cell_type": "code",
   "execution_count": 226,
   "id": "fb0d07ec-259c-494e-9f87-565112644c18",
   "metadata": {},
   "outputs": [
    {
     "name": "stderr",
     "output_type": "stream",
     "text": [
      "C:\\Users\\LENOVO\\AppData\\Local\\Temp\\ipykernel_11332\\2284060477.py:2: FutureWarning: The default of observed=False is deprecated and will be changed to True in a future version of pandas. Pass observed=False to retain current behavior or observed=True to adopt the future default and silence this warning.\n",
      "  df.groupby('activity_group')['Stress'].mean()\n"
     ]
    },
    {
     "data": {
      "text/plain": [
       "activity_group\n",
       "Low          1.751029\n",
       "Moderate     1.717436\n",
       "High         1.812500\n",
       "Very High         NaN\n",
       "Name: Stress, dtype: float64"
      ]
     },
     "execution_count": 226,
     "metadata": {},
     "output_type": "execute_result"
    }
   ],
   "source": [
    "df['activity_group'] = pd.cut(df['PhysicalActivityHours(Weekly)'], bins=[0,2,4,6,10], labels=['Low','Moderate','High','Very High'])\n",
    "df.groupby('activity_group')['Stress'].mean()"
   ]
  },
  {
   "cell_type": "code",
   "execution_count": 228,
   "id": "ff84a9a1-83fd-4010-a31f-9c5da291f023",
   "metadata": {},
   "outputs": [
    {
     "data": {
      "text/plain": [
       "<Axes: xlabel='PhysicalActivityHours(Weekly)', ylabel='Stress'>"
      ]
     },
     "execution_count": 228,
     "metadata": {},
     "output_type": "execute_result"
    },
    {
     "data": {
      "image/png": "[encoded data removed]",
      "text/plain": [
       "<Figure size 640x480 with 1 Axes>"
      ]
     },
     "metadata": {},
     "output_type": "display_data"
    }
   ],
   "source": [
    "sns.scatterplot(x = \"PhysicalActivityHours(Weekly)\", y = \"Stress\", data = df)"
   ]
  },
  {
   "cell_type": "code",
   "execution_count": null,
   "id": "ef489ead-711d-4ce3-90df-6f97dc0ef3fb",
   "metadata": {},
   "outputs": [],
   "source": [
    "##25. How does job satisfaction vary between employees with different levels of experience? "
   ]
  },
  {
   "cell_type": "code",
   "execution_count": 238,
   "id": "2f8a8963-d9c5-4424-b01b-a7163a3cfae8",
   "metadata": {},
   "outputs": [],
   "source": [
    "bins = [1, 5, 10, 15, 20, 25, 30]\n",
    "labels = ['1-5 yrs', '6-10 yrs', '11-15 yrs', '16-20 yrs', '21-25 yrs', '26-30 yrs']\n",
    "df['experience_group'] = pd.cut(df['Experience'], bins=bins, labels=labels, include_lowest=True)"
   ]
  },
  {
   "cell_type": "code",
   "execution_count": 242,
   "id": "c7598469-9705-4842-917f-382005696c0c",
   "metadata": {},
   "outputs": [
    {
     "name": "stderr",
     "output_type": "stream",
     "text": [
      "C:\\Users\\LENOVO\\AppData\\Local\\Temp\\ipykernel_11332\\847602852.py:1: FutureWarning: The default of observed=False is deprecated and will be changed to True in a future version of pandas. Pass observed=False to retain current behavior or observed=True to adopt the future default and silence this warning.\n",
      "  df.groupby(\"experience_group\")[\"JobSatisfaction\"].mean()\n"
     ]
    },
    {
     "data": {
      "text/plain": [
       "experience_group\n",
       "1-5 yrs      3.417659\n",
       "6-10 yrs     3.430536\n",
       "11-15 yrs    3.333333\n",
       "16-20 yrs    3.335484\n",
       "21-25 yrs    3.326425\n",
       "26-30 yrs    3.465753\n",
       "Name: JobSatisfaction, dtype: float64"
      ]
     },
     "execution_count": 242,
     "metadata": {},
     "output_type": "execute_result"
    }
   ],
   "source": [
    "df.groupby(\"experience_group\")[\"JobSatisfaction\"].mean()"
   ]
  },
  {
   "cell_type": "code",
   "execution_count": null,
   "id": "a377380c-c8fe-4af2-a7ad-0b3784549773",
   "metadata": {},
   "outputs": [],
   "source": [
    "##26. Is there a correlation between workload and stress levels?  "
   ]
  },
  {
   "cell_type": "code",
   "execution_count": 250,
   "id": "7586126c-0c41-402e-b64d-7313bda6cbd9",
   "metadata": {},
   "outputs": [
    {
     "data": {
      "text/plain": [
       "0.00745946640096463"
      ]
     },
     "execution_count": 250,
     "metadata": {},
     "output_type": "execute_result"
    }
   ],
   "source": [
    "df['Workload'].corr(df['Stress'], method = 'spearman')"
   ]
  },
  {
   "cell_type": "code",
   "execution_count": null,
   "id": "e21dba8f-c337-4d98-8f18-53f1600199ff",
   "metadata": {},
   "outputs": [],
   "source": [
    "##27. How does job satisfaction differ between employees in different departments (e.g., IT, Finance, Marketing)? "
   ]
  },
  {
   "cell_type": "code",
   "execution_count": 256,
   "id": "1349bcb8-8604-4c77-bc30-24657c51cb82",
   "metadata": {},
   "outputs": [
    {
     "data": {
      "text/html": [
       "<div>\n",
       "<style scoped>\n",
       "    .dataframe tbody tr th:only-of-type {\n",
       "        vertical-align: middle;\n",
       "    }\n",
       "\n",
       "    .dataframe tbody tr th {\n",
       "        vertical-align: top;\n",
       "    }\n",
       "\n",
       "    .dataframe thead th {\n",
       "        text-align: right;\n",
       "    }\n",
       "</style>\n",
       "<table border=\"1\" class=\"dataframe\">\n",
       "  <thead>\n",
       "    <tr style=\"text-align: right;\">\n",
       "      <th></th>\n",
       "      <th>Dept</th>\n",
       "      <th>JobSatisfaction</th>\n",
       "    </tr>\n",
       "  </thead>\n",
       "  <tbody>\n",
       "    <tr>\n",
       "      <th>0</th>\n",
       "      <td>Customer Service</td>\n",
       "      <td>3.312925</td>\n",
       "    </tr>\n",
       "    <tr>\n",
       "      <th>1</th>\n",
       "      <td>Finance</td>\n",
       "      <td>3.437991</td>\n",
       "    </tr>\n",
       "    <tr>\n",
       "      <th>2</th>\n",
       "      <td>HR</td>\n",
       "      <td>3.398601</td>\n",
       "    </tr>\n",
       "    <tr>\n",
       "      <th>3</th>\n",
       "      <td>IT</td>\n",
       "      <td>3.282946</td>\n",
       "    </tr>\n",
       "    <tr>\n",
       "      <th>4</th>\n",
       "      <td>Legal</td>\n",
       "      <td>3.393382</td>\n",
       "    </tr>\n",
       "    <tr>\n",
       "      <th>5</th>\n",
       "      <td>Marketing</td>\n",
       "      <td>3.348101</td>\n",
       "    </tr>\n",
       "    <tr>\n",
       "      <th>6</th>\n",
       "      <td>Operations</td>\n",
       "      <td>3.465934</td>\n",
       "    </tr>\n",
       "    <tr>\n",
       "      <th>7</th>\n",
       "      <td>Sales</td>\n",
       "      <td>3.498221</td>\n",
       "    </tr>\n",
       "  </tbody>\n",
       "</table>\n",
       "</div>"
      ],
      "text/plain": [
       "               Dept  JobSatisfaction\n",
       "0  Customer Service         3.312925\n",
       "1           Finance         3.437991\n",
       "2                HR         3.398601\n",
       "3                IT         3.282946\n",
       "4             Legal         3.393382\n",
       "5         Marketing         3.348101\n",
       "6        Operations         3.465934\n",
       "7             Sales         3.498221"
      ]
     },
     "execution_count": 256,
     "metadata": {},
     "output_type": "execute_result"
    }
   ],
   "source": [
    "df.groupby(\"Dept\")[\"JobSatisfaction\"].mean().reset_index()"
   ]
  },
  {
   "cell_type": "code",
   "execution_count": null,
   "id": "985a9428-6d83-4134-a7bd-f1337753ed88",
   "metadata": {},
   "outputs": [],
   "source": [
    "##28. Are employees with longer commutes more likely to report lower work-life balance?"
   ]
  },
  {
   "cell_type": "code",
   "execution_count": 258,
   "id": "244145f0-d40f-44e7-b47a-f691ef2c25f7",
   "metadata": {},
   "outputs": [
    {
     "data": {
      "text/html": [
       "<div>\n",
       "<style scoped>\n",
       "    .dataframe tbody tr th:only-of-type {\n",
       "        vertical-align: middle;\n",
       "    }\n",
       "\n",
       "    .dataframe tbody tr th {\n",
       "        vertical-align: top;\n",
       "    }\n",
       "\n",
       "    .dataframe thead th {\n",
       "        text-align: right;\n",
       "    }\n",
       "</style>\n",
       "<table border=\"1\" class=\"dataframe\">\n",
       "  <thead>\n",
       "    <tr style=\"text-align: right;\">\n",
       "      <th></th>\n",
       "      <th>EmpID</th>\n",
       "      <th>Gender</th>\n",
       "      <th>Age</th>\n",
       "      <th>MaritalStatus</th>\n",
       "      <th>JobLevel</th>\n",
       "      <th>Experience</th>\n",
       "      <th>Dept</th>\n",
       "      <th>EmpType</th>\n",
       "      <th>WLB(Work Life Balance)</th>\n",
       "      <th>WorkEnv</th>\n",
       "      <th>PhysicalActivityHours(Weekly)</th>\n",
       "      <th>Workload</th>\n",
       "      <th>Stress</th>\n",
       "      <th>SleepHours</th>\n",
       "      <th>CommuteMode</th>\n",
       "      <th>CommuteDistance (KM)</th>\n",
       "      <th>NumCompanies</th>\n",
       "      <th>TeamSize</th>\n",
       "      <th>NumReports</th>\n",
       "      <th>EduLevel</th>\n",
       "      <th>haveOT (Overtime)</th>\n",
       "      <th>TrainingHoursPerYear</th>\n",
       "      <th>JobSatisfaction</th>\n",
       "      <th>Age_groups</th>\n",
       "      <th>activity_group</th>\n",
       "      <th>experience_group</th>\n",
       "    </tr>\n",
       "  </thead>\n",
       "  <tbody>\n",
       "    <tr>\n",
       "      <th>0</th>\n",
       "      <td>6</td>\n",
       "      <td>Male</td>\n",
       "      <td>32</td>\n",
       "      <td>Married</td>\n",
       "      <td>Mid</td>\n",
       "      <td>7</td>\n",
       "      <td>IT</td>\n",
       "      <td>Full-Time</td>\n",
       "      <td>1</td>\n",
       "      <td>1</td>\n",
       "      <td>2.5</td>\n",
       "      <td>2</td>\n",
       "      <td>1</td>\n",
       "      <td>7.6</td>\n",
       "      <td>Car</td>\n",
       "      <td>20</td>\n",
       "      <td>3</td>\n",
       "      <td>12</td>\n",
       "      <td>0</td>\n",
       "      <td>Bachelor</td>\n",
       "      <td>True</td>\n",
       "      <td>33.5</td>\n",
       "      <td>5</td>\n",
       "      <td>31-35</td>\n",
       "      <td>Moderate</td>\n",
       "      <td>6-10 yrs</td>\n",
       "    </tr>\n",
       "    <tr>\n",
       "      <th>1</th>\n",
       "      <td>11</td>\n",
       "      <td>Female</td>\n",
       "      <td>34</td>\n",
       "      <td>Married</td>\n",
       "      <td>Mid</td>\n",
       "      <td>12</td>\n",
       "      <td>Finance</td>\n",
       "      <td>Full-Time</td>\n",
       "      <td>1</td>\n",
       "      <td>1</td>\n",
       "      <td>1.8</td>\n",
       "      <td>2</td>\n",
       "      <td>2</td>\n",
       "      <td>7.9</td>\n",
       "      <td>Car</td>\n",
       "      <td>15</td>\n",
       "      <td>4</td>\n",
       "      <td>11</td>\n",
       "      <td>0</td>\n",
       "      <td>Bachelor</td>\n",
       "      <td>False</td>\n",
       "      <td>36.0</td>\n",
       "      <td>5</td>\n",
       "      <td>31-35</td>\n",
       "      <td>Low</td>\n",
       "      <td>11-15 yrs</td>\n",
       "    </tr>\n",
       "    <tr>\n",
       "      <th>2</th>\n",
       "      <td>33</td>\n",
       "      <td>Female</td>\n",
       "      <td>23</td>\n",
       "      <td>Single</td>\n",
       "      <td>Intern/Fresher</td>\n",
       "      <td>1</td>\n",
       "      <td>Marketing</td>\n",
       "      <td>Full-Time</td>\n",
       "      <td>2</td>\n",
       "      <td>4</td>\n",
       "      <td>2.1</td>\n",
       "      <td>5</td>\n",
       "      <td>4</td>\n",
       "      <td>6.5</td>\n",
       "      <td>Motorbike</td>\n",
       "      <td>17</td>\n",
       "      <td>0</td>\n",
       "      <td>30</td>\n",
       "      <td>0</td>\n",
       "      <td>Bachelor</td>\n",
       "      <td>True</td>\n",
       "      <td>10.5</td>\n",
       "      <td>5</td>\n",
       "      <td>20-25</td>\n",
       "      <td>Moderate</td>\n",
       "      <td>1-5 yrs</td>\n",
       "    </tr>\n",
       "    <tr>\n",
       "      <th>3</th>\n",
       "      <td>20</td>\n",
       "      <td>Female</td>\n",
       "      <td>29</td>\n",
       "      <td>Married</td>\n",
       "      <td>Junior</td>\n",
       "      <td>6</td>\n",
       "      <td>IT</td>\n",
       "      <td>Contract</td>\n",
       "      <td>2</td>\n",
       "      <td>2</td>\n",
       "      <td>1.9</td>\n",
       "      <td>3</td>\n",
       "      <td>1</td>\n",
       "      <td>7.5</td>\n",
       "      <td>Public Transport</td>\n",
       "      <td>13</td>\n",
       "      <td>2</td>\n",
       "      <td>9</td>\n",
       "      <td>0</td>\n",
       "      <td>Bachelor</td>\n",
       "      <td>True</td>\n",
       "      <td>23.0</td>\n",
       "      <td>5</td>\n",
       "      <td>26-30</td>\n",
       "      <td>Low</td>\n",
       "      <td>6-10 yrs</td>\n",
       "    </tr>\n",
       "    <tr>\n",
       "      <th>4</th>\n",
       "      <td>28</td>\n",
       "      <td>Other</td>\n",
       "      <td>23</td>\n",
       "      <td>Single</td>\n",
       "      <td>Junior</td>\n",
       "      <td>1</td>\n",
       "      <td>Sales</td>\n",
       "      <td>Part-Time</td>\n",
       "      <td>3</td>\n",
       "      <td>1</td>\n",
       "      <td>3.7</td>\n",
       "      <td>2</td>\n",
       "      <td>1</td>\n",
       "      <td>4.9</td>\n",
       "      <td>Car</td>\n",
       "      <td>20</td>\n",
       "      <td>0</td>\n",
       "      <td>7</td>\n",
       "      <td>0</td>\n",
       "      <td>Bachelor</td>\n",
       "      <td>False</td>\n",
       "      <td>20.5</td>\n",
       "      <td>5</td>\n",
       "      <td>20-25</td>\n",
       "      <td>Moderate</td>\n",
       "      <td>1-5 yrs</td>\n",
       "    </tr>\n",
       "  </tbody>\n",
       "</table>\n",
       "</div>"
      ],
      "text/plain": [
       "   EmpID  Gender  Age MaritalStatus        JobLevel  Experience       Dept  \\\n",
       "0      6    Male   32       Married             Mid           7         IT   \n",
       "1     11  Female   34       Married             Mid          12    Finance   \n",
       "2     33  Female   23        Single  Intern/Fresher           1  Marketing   \n",
       "3     20  Female   29       Married          Junior           6         IT   \n",
       "4     28   Other   23        Single          Junior           1      Sales   \n",
       "\n",
       "     EmpType  WLB(Work Life Balance)  WorkEnv  PhysicalActivityHours(Weekly)  \\\n",
       "0  Full-Time                       1        1                            2.5   \n",
       "1  Full-Time                       1        1                            1.8   \n",
       "2  Full-Time                       2        4                            2.1   \n",
       "3   Contract                       2        2                            1.9   \n",
       "4  Part-Time                       3        1                            3.7   \n",
       "\n",
       "   Workload  Stress  SleepHours       CommuteMode  CommuteDistance (KM)  \\\n",
       "0         2       1         7.6               Car                    20   \n",
       "1         2       2         7.9               Car                    15   \n",
       "2         5       4         6.5         Motorbike                    17   \n",
       "3         3       1         7.5  Public Transport                    13   \n",
       "4         2       1         4.9               Car                    20   \n",
       "\n",
       "   NumCompanies  TeamSize  NumReports  EduLevel  haveOT (Overtime)  \\\n",
       "0             3        12           0  Bachelor               True   \n",
       "1             4        11           0  Bachelor              False   \n",
       "2             0        30           0  Bachelor               True   \n",
       "3             2         9           0  Bachelor               True   \n",
       "4             0         7           0  Bachelor              False   \n",
       "\n",
       "   TrainingHoursPerYear  JobSatisfaction Age_groups activity_group  \\\n",
       "0                  33.5                5      31-35       Moderate   \n",
       "1                  36.0                5      31-35            Low   \n",
       "2                  10.5                5      20-25       Moderate   \n",
       "3                  23.0                5      26-30            Low   \n",
       "4                  20.5                5      20-25       Moderate   \n",
       "\n",
       "  experience_group  \n",
       "0         6-10 yrs  \n",
       "1        11-15 yrs  \n",
       "2          1-5 yrs  \n",
       "3         6-10 yrs  \n",
       "4          1-5 yrs  "
      ]
     },
     "execution_count": 258,
     "metadata": {},
     "output_type": "execute_result"
    }
   ],
   "source": [
    "df.head()"
   ]
  },
  {
   "cell_type": "code",
   "execution_count": 260,
   "id": "cc2b6909-6fb0-4d4d-8098-d0752c606961",
   "metadata": {},
   "outputs": [
    {
     "data": {
      "text/plain": [
       "<Axes: xlabel='CommuteDistance (KM)', ylabel='WLB(Work Life Balance)'>"
      ]
     },
     "execution_count": 260,
     "metadata": {},
     "output_type": "execute_result"
    },
    {
     "data": {
      "image/png": "[encoded data removed]",
      "text/plain": [
       "<Figure size 640x480 with 1 Axes>"
      ]
     },
     "metadata": {},
     "output_type": "display_data"
    }
   ],
   "source": [
    "sns.scatterplot( x = 'CommuteDistance (KM)', y = 'WLB(Work Life Balance)', data = df)"
   ]
  },
  {
   "cell_type": "code",
   "execution_count": 262,
   "id": "0a5cf07d-e5b8-4cc5-8494-2843e72298df",
   "metadata": {},
   "outputs": [
    {
     "data": {
      "text/plain": [
       "0.0030042448158307438"
      ]
     },
     "execution_count": 262,
     "metadata": {},
     "output_type": "execute_result"
    }
   ],
   "source": [
    "df['CommuteDistance (KM)'].corr(df['WLB(Work Life Balance)'])"
   ]
  },
  {
   "cell_type": "code",
   "execution_count": null,
   "id": "67c9b2a3-70f3-4b15-953e-550d798b90c6",
   "metadata": {},
   "outputs": [],
   "source": [
    "\"\"\"this means no real relationship\"\"\""
   ]
  },
  {
   "cell_type": "code",
   "execution_count": 270,
   "id": "b511a2d9-5ee8-4b6a-8744-d16c7dce7282",
   "metadata": {},
   "outputs": [],
   "source": [
    "bins = [0, 5, 10, 15, 20, 25, 30]\n",
    "labels = ['0–5 km', '6–10 km', '11–15 km', '16–20 km', '21–25 km', '26–30 km']\n",
    "df['commute_group'] = pd.cut(df['CommuteDistance (KM)'], bins=bins,labels = labels)"
   ]
  },
  {
   "cell_type": "code",
   "execution_count": 278,
   "id": "8b284c9b-5051-4e21-8a65-897a84bde633",
   "metadata": {},
   "outputs": [
    {
     "name": "stderr",
     "output_type": "stream",
     "text": [
      "C:\\Users\\LENOVO\\AppData\\Local\\Temp\\ipykernel_11332\\3914779060.py:1: FutureWarning: The default of observed=False is deprecated and will be changed to True in a future version of pandas. Pass observed=False to retain current behavior or observed=True to adopt the future default and silence this warning.\n",
      "  df.groupby(\"commute_group\")[\"WLB(Work Life Balance)\"].mean().reset_index().sort_values(\"WLB(Work Life Balance)\")\n"
     ]
    },
    {
     "data": {
      "text/html": [
       "<div>\n",
       "<style scoped>\n",
       "    .dataframe tbody tr th:only-of-type {\n",
       "        vertical-align: middle;\n",
       "    }\n",
       "\n",
       "    .dataframe tbody tr th {\n",
       "        vertical-align: top;\n",
       "    }\n",
       "\n",
       "    .dataframe thead th {\n",
       "        text-align: right;\n",
       "    }\n",
       "</style>\n",
       "<table border=\"1\" class=\"dataframe\">\n",
       "  <thead>\n",
       "    <tr style=\"text-align: right;\">\n",
       "      <th></th>\n",
       "      <th>commute_group</th>\n",
       "      <th>WLB(Work Life Balance)</th>\n",
       "    </tr>\n",
       "  </thead>\n",
       "  <tbody>\n",
       "    <tr>\n",
       "      <th>4</th>\n",
       "      <td>21–25 km</td>\n",
       "      <td>2.995444</td>\n",
       "    </tr>\n",
       "    <tr>\n",
       "      <th>0</th>\n",
       "      <td>0–5 km</td>\n",
       "      <td>3.037500</td>\n",
       "    </tr>\n",
       "    <tr>\n",
       "      <th>2</th>\n",
       "      <td>11–15 km</td>\n",
       "      <td>3.048936</td>\n",
       "    </tr>\n",
       "    <tr>\n",
       "      <th>1</th>\n",
       "      <td>6–10 km</td>\n",
       "      <td>3.087278</td>\n",
       "    </tr>\n",
       "    <tr>\n",
       "      <th>3</th>\n",
       "      <td>16–20 km</td>\n",
       "      <td>3.094737</td>\n",
       "    </tr>\n",
       "    <tr>\n",
       "      <th>5</th>\n",
       "      <td>26–30 km</td>\n",
       "      <td>3.110769</td>\n",
       "    </tr>\n",
       "  </tbody>\n",
       "</table>\n",
       "</div>"
      ],
      "text/plain": [
       "  commute_group  WLB(Work Life Balance)\n",
       "4      21–25 km                2.995444\n",
       "0        0–5 km                3.037500\n",
       "2      11–15 km                3.048936\n",
       "1       6–10 km                3.087278\n",
       "3      16–20 km                3.094737\n",
       "5      26–30 km                3.110769"
      ]
     },
     "execution_count": 278,
     "metadata": {},
     "output_type": "execute_result"
    }
   ],
   "source": [
    "df.groupby(\"commute_group\")[\"WLB(Work Life Balance)\"].mean().reset_index().sort_values(\"WLB(Work Life Balance)\")"
   ]
  },
  {
   "cell_type": "code",
   "execution_count": null,
   "id": "a2c78b8d-22a8-4a96-aa34-b5bceb72508e",
   "metadata": {},
   "outputs": [],
   "source": [
    "##29. How does job satisfaction vary between employees with different marital statuses? "
   ]
  },
  {
   "cell_type": "code",
   "execution_count": 284,
   "id": "55475315-6d70-4eb7-b229-bb19fb05e57d",
   "metadata": {},
   "outputs": [
    {
     "data": {
      "text/html": [
       "<div>\n",
       "<style scoped>\n",
       "    .dataframe tbody tr th:only-of-type {\n",
       "        vertical-align: middle;\n",
       "    }\n",
       "\n",
       "    .dataframe tbody tr th {\n",
       "        vertical-align: top;\n",
       "    }\n",
       "\n",
       "    .dataframe thead th {\n",
       "        text-align: right;\n",
       "    }\n",
       "</style>\n",
       "<table border=\"1\" class=\"dataframe\">\n",
       "  <thead>\n",
       "    <tr style=\"text-align: right;\">\n",
       "      <th></th>\n",
       "      <th>MaritalStatus</th>\n",
       "      <th>JobSatisfaction</th>\n",
       "    </tr>\n",
       "  </thead>\n",
       "  <tbody>\n",
       "    <tr>\n",
       "      <th>0</th>\n",
       "      <td>Divorced</td>\n",
       "      <td>3.523810</td>\n",
       "    </tr>\n",
       "    <tr>\n",
       "      <th>1</th>\n",
       "      <td>Married</td>\n",
       "      <td>3.324266</td>\n",
       "    </tr>\n",
       "    <tr>\n",
       "      <th>2</th>\n",
       "      <td>Single</td>\n",
       "      <td>3.428671</td>\n",
       "    </tr>\n",
       "    <tr>\n",
       "      <th>3</th>\n",
       "      <td>Widowed</td>\n",
       "      <td>4.000000</td>\n",
       "    </tr>\n",
       "  </tbody>\n",
       "</table>\n",
       "</div>"
      ],
      "text/plain": [
       "  MaritalStatus  JobSatisfaction\n",
       "0      Divorced         3.523810\n",
       "1       Married         3.324266\n",
       "2        Single         3.428671\n",
       "3       Widowed         4.000000"
      ]
     },
     "execution_count": 284,
     "metadata": {},
     "output_type": "execute_result"
    }
   ],
   "source": [
    "df.groupby(\"MaritalStatus\")[\"JobSatisfaction\"].mean().reset_index()"
   ]
  },
  {
   "cell_type": "code",
   "execution_count": 286,
   "id": "e044601a-1b8f-4cad-8d9f-ad803de86c59",
   "metadata": {},
   "outputs": [
    {
     "data": {
      "text/plain": [
       "\"it's seems widowed are those with highes job satisfaction, lol\""
      ]
     },
     "execution_count": 286,
     "metadata": {},
     "output_type": "execute_result"
    }
   ],
   "source": [
    "\"\"\"it's seems widowed are those with highes job satisfaction, lol\"\"\""
   ]
  },
  {
   "cell_type": "code",
   "execution_count": null,
   "id": "077631d0-8823-4b5a-b363-a0fc95539242",
   "metadata": {},
   "outputs": [],
   "source": [
    "##30. Is there a relationship between team size and work-life balance?  "
   ]
  },
  {
   "cell_type": "code",
   "execution_count": 290,
   "id": "f95f2ff1-2425-45d9-9296-224198deee96",
   "metadata": {},
   "outputs": [
    {
     "data": {
      "text/plain": [
       "-0.024148571854883557"
      ]
     },
     "execution_count": 290,
     "metadata": {},
     "output_type": "execute_result"
    }
   ],
   "source": [
    "df[\"TeamSize\"].corr(df[\"WLB(Work Life Balance)\"])"
   ]
  },
  {
   "cell_type": "code",
   "execution_count": null,
   "id": "71bcdb80-52c2-4bf3-80b3-f6aaa8a9b1aa",
   "metadata": {},
   "outputs": [],
   "source": [
    "##31. How does job satisfaction differ between employees who work in different-sized teams?  "
   ]
  },
  {
   "cell_type": "code",
   "execution_count": null,
   "id": "172d6481-9ddf-4e63-bf77-180902797ced",
   "metadata": {},
   "outputs": [],
   "source": [
    "bins = [1,5,10,15,20,25,30]"
   ]
  },
  {
   "cell_type": "code",
   "execution_count": 300,
   "id": "ccc79437-c196-4d8c-9bd4-3f47f658c041",
   "metadata": {},
   "outputs": [],
   "source": [
    "labels = [\"1-5\",\"6-10\",\"11-15\",\"16-20\",\"21-25\",\"26-30\"]"
   ]
  },
  {
   "cell_type": "code",
   "execution_count": 302,
   "id": "3211cea5-f24c-4bd6-925e-4e2abf34528c",
   "metadata": {},
   "outputs": [],
   "source": [
    "df[\"team_size_group\"] = pd.cut(df[\"TeamSize\"], bins = bins, labels = labels)"
   ]
  },
  {
   "cell_type": "code",
   "execution_count": 304,
   "id": "4154a097-200b-46a2-8ab9-bc35c4991216",
   "metadata": {},
   "outputs": [
    {
     "data": {
      "text/html": [
       "<div>\n",
       "<style scoped>\n",
       "    .dataframe tbody tr th:only-of-type {\n",
       "        vertical-align: middle;\n",
       "    }\n",
       "\n",
       "    .dataframe tbody tr th {\n",
       "        vertical-align: top;\n",
       "    }\n",
       "\n",
       "    .dataframe thead th {\n",
       "        text-align: right;\n",
       "    }\n",
       "</style>\n",
       "<table border=\"1\" class=\"dataframe\">\n",
       "  <thead>\n",
       "    <tr style=\"text-align: right;\">\n",
       "      <th></th>\n",
       "      <th>EmpID</th>\n",
       "      <th>Gender</th>\n",
       "      <th>Age</th>\n",
       "      <th>MaritalStatus</th>\n",
       "      <th>JobLevel</th>\n",
       "      <th>Experience</th>\n",
       "      <th>Dept</th>\n",
       "      <th>EmpType</th>\n",
       "      <th>WLB(Work Life Balance)</th>\n",
       "      <th>WorkEnv</th>\n",
       "      <th>PhysicalActivityHours(Weekly)</th>\n",
       "      <th>Workload</th>\n",
       "      <th>Stress</th>\n",
       "      <th>SleepHours</th>\n",
       "      <th>CommuteMode</th>\n",
       "      <th>CommuteDistance (KM)</th>\n",
       "      <th>NumCompanies</th>\n",
       "      <th>TeamSize</th>\n",
       "      <th>NumReports</th>\n",
       "      <th>EduLevel</th>\n",
       "      <th>haveOT (Overtime)</th>\n",
       "      <th>TrainingHoursPerYear</th>\n",
       "      <th>JobSatisfaction</th>\n",
       "      <th>Age_groups</th>\n",
       "      <th>activity_group</th>\n",
       "      <th>experience_group</th>\n",
       "      <th>commute_group</th>\n",
       "      <th>team_size_group</th>\n",
       "    </tr>\n",
       "  </thead>\n",
       "  <tbody>\n",
       "    <tr>\n",
       "      <th>0</th>\n",
       "      <td>6</td>\n",
       "      <td>Male</td>\n",
       "      <td>32</td>\n",
       "      <td>Married</td>\n",
       "      <td>Mid</td>\n",
       "      <td>7</td>\n",
       "      <td>IT</td>\n",
       "      <td>Full-Time</td>\n",
       "      <td>1</td>\n",
       "      <td>1</td>\n",
       "      <td>2.5</td>\n",
       "      <td>2</td>\n",
       "      <td>1</td>\n",
       "      <td>7.6</td>\n",
       "      <td>Car</td>\n",
       "      <td>20</td>\n",
       "      <td>3</td>\n",
       "      <td>12</td>\n",
       "      <td>0</td>\n",
       "      <td>Bachelor</td>\n",
       "      <td>True</td>\n",
       "      <td>33.5</td>\n",
       "      <td>5</td>\n",
       "      <td>31-35</td>\n",
       "      <td>Moderate</td>\n",
       "      <td>6-10 yrs</td>\n",
       "      <td>16–20 km</td>\n",
       "      <td>11-15</td>\n",
       "    </tr>\n",
       "    <tr>\n",
       "      <th>1</th>\n",
       "      <td>11</td>\n",
       "      <td>Female</td>\n",
       "      <td>34</td>\n",
       "      <td>Married</td>\n",
       "      <td>Mid</td>\n",
       "      <td>12</td>\n",
       "      <td>Finance</td>\n",
       "      <td>Full-Time</td>\n",
       "      <td>1</td>\n",
       "      <td>1</td>\n",
       "      <td>1.8</td>\n",
       "      <td>2</td>\n",
       "      <td>2</td>\n",
       "      <td>7.9</td>\n",
       "      <td>Car</td>\n",
       "      <td>15</td>\n",
       "      <td>4</td>\n",
       "      <td>11</td>\n",
       "      <td>0</td>\n",
       "      <td>Bachelor</td>\n",
       "      <td>False</td>\n",
       "      <td>36.0</td>\n",
       "      <td>5</td>\n",
       "      <td>31-35</td>\n",
       "      <td>Low</td>\n",
       "      <td>11-15 yrs</td>\n",
       "      <td>11–15 km</td>\n",
       "      <td>11-15</td>\n",
       "    </tr>\n",
       "    <tr>\n",
       "      <th>2</th>\n",
       "      <td>33</td>\n",
       "      <td>Female</td>\n",
       "      <td>23</td>\n",
       "      <td>Single</td>\n",
       "      <td>Intern/Fresher</td>\n",
       "      <td>1</td>\n",
       "      <td>Marketing</td>\n",
       "      <td>Full-Time</td>\n",
       "      <td>2</td>\n",
       "      <td>4</td>\n",
       "      <td>2.1</td>\n",
       "      <td>5</td>\n",
       "      <td>4</td>\n",
       "      <td>6.5</td>\n",
       "      <td>Motorbike</td>\n",
       "      <td>17</td>\n",
       "      <td>0</td>\n",
       "      <td>30</td>\n",
       "      <td>0</td>\n",
       "      <td>Bachelor</td>\n",
       "      <td>True</td>\n",
       "      <td>10.5</td>\n",
       "      <td>5</td>\n",
       "      <td>20-25</td>\n",
       "      <td>Moderate</td>\n",
       "      <td>1-5 yrs</td>\n",
       "      <td>16–20 km</td>\n",
       "      <td>26-30</td>\n",
       "    </tr>\n",
       "    <tr>\n",
       "      <th>3</th>\n",
       "      <td>20</td>\n",
       "      <td>Female</td>\n",
       "      <td>29</td>\n",
       "      <td>Married</td>\n",
       "      <td>Junior</td>\n",
       "      <td>6</td>\n",
       "      <td>IT</td>\n",
       "      <td>Contract</td>\n",
       "      <td>2</td>\n",
       "      <td>2</td>\n",
       "      <td>1.9</td>\n",
       "      <td>3</td>\n",
       "      <td>1</td>\n",
       "      <td>7.5</td>\n",
       "      <td>Public Transport</td>\n",
       "      <td>13</td>\n",
       "      <td>2</td>\n",
       "      <td>9</td>\n",
       "      <td>0</td>\n",
       "      <td>Bachelor</td>\n",
       "      <td>True</td>\n",
       "      <td>23.0</td>\n",
       "      <td>5</td>\n",
       "      <td>26-30</td>\n",
       "      <td>Low</td>\n",
       "      <td>6-10 yrs</td>\n",
       "      <td>11–15 km</td>\n",
       "      <td>6-10</td>\n",
       "    </tr>\n",
       "    <tr>\n",
       "      <th>4</th>\n",
       "      <td>28</td>\n",
       "      <td>Other</td>\n",
       "      <td>23</td>\n",
       "      <td>Single</td>\n",
       "      <td>Junior</td>\n",
       "      <td>1</td>\n",
       "      <td>Sales</td>\n",
       "      <td>Part-Time</td>\n",
       "      <td>3</td>\n",
       "      <td>1</td>\n",
       "      <td>3.7</td>\n",
       "      <td>2</td>\n",
       "      <td>1</td>\n",
       "      <td>4.9</td>\n",
       "      <td>Car</td>\n",
       "      <td>20</td>\n",
       "      <td>0</td>\n",
       "      <td>7</td>\n",
       "      <td>0</td>\n",
       "      <td>Bachelor</td>\n",
       "      <td>False</td>\n",
       "      <td>20.5</td>\n",
       "      <td>5</td>\n",
       "      <td>20-25</td>\n",
       "      <td>Moderate</td>\n",
       "      <td>1-5 yrs</td>\n",
       "      <td>16–20 km</td>\n",
       "      <td>6-10</td>\n",
       "    </tr>\n",
       "  </tbody>\n",
       "</table>\n",
       "</div>"
      ],
      "text/plain": [
       "   EmpID  Gender  Age MaritalStatus        JobLevel  Experience       Dept  \\\n",
       "0      6    Male   32       Married             Mid           7         IT   \n",
       "1     11  Female   34       Married             Mid          12    Finance   \n",
       "2     33  Female   23        Single  Intern/Fresher           1  Marketing   \n",
       "3     20  Female   29       Married          Junior           6         IT   \n",
       "4     28   Other   23        Single          Junior           1      Sales   \n",
       "\n",
       "     EmpType  WLB(Work Life Balance)  WorkEnv  PhysicalActivityHours(Weekly)  \\\n",
       "0  Full-Time                       1        1                            2.5   \n",
       "1  Full-Time                       1        1                            1.8   \n",
       "2  Full-Time                       2        4                            2.1   \n",
       "3   Contract                       2        2                            1.9   \n",
       "4  Part-Time                       3        1                            3.7   \n",
       "\n",
       "   Workload  Stress  SleepHours       CommuteMode  CommuteDistance (KM)  \\\n",
       "0         2       1         7.6               Car                    20   \n",
       "1         2       2         7.9               Car                    15   \n",
       "2         5       4         6.5         Motorbike                    17   \n",
       "3         3       1         7.5  Public Transport                    13   \n",
       "4         2       1         4.9               Car                    20   \n",
       "\n",
       "   NumCompanies  TeamSize  NumReports  EduLevel  haveOT (Overtime)  \\\n",
       "0             3        12           0  Bachelor               True   \n",
       "1             4        11           0  Bachelor              False   \n",
       "2             0        30           0  Bachelor               True   \n",
       "3             2         9           0  Bachelor               True   \n",
       "4             0         7           0  Bachelor              False   \n",
       "\n",
       "   TrainingHoursPerYear  JobSatisfaction Age_groups activity_group  \\\n",
       "0                  33.5                5      31-35       Moderate   \n",
       "1                  36.0                5      31-35            Low   \n",
       "2                  10.5                5      20-25       Moderate   \n",
       "3                  23.0                5      26-30            Low   \n",
       "4                  20.5                5      20-25       Moderate   \n",
       "\n",
       "  experience_group commute_group team_size_group  \n",
       "0         6-10 yrs      16–20 km           11-15  \n",
       "1        11-15 yrs      11–15 km           11-15  \n",
       "2          1-5 yrs      16–20 km           26-30  \n",
       "3         6-10 yrs      11–15 km            6-10  \n",
       "4          1-5 yrs      16–20 km            6-10  "
      ]
     },
     "execution_count": 304,
     "metadata": {},
     "output_type": "execute_result"
    }
   ],
   "source": [
    "df.head()"
   ]
  },
  {
   "cell_type": "code",
   "execution_count": 308,
   "id": "93f766ad-b13d-439e-bcbc-106cd0f178d2",
   "metadata": {},
   "outputs": [
    {
     "name": "stderr",
     "output_type": "stream",
     "text": [
      "C:\\Users\\LENOVO\\AppData\\Local\\Temp\\ipykernel_11332\\4107878687.py:1: FutureWarning: The default of observed=False is deprecated and will be changed to True in a future version of pandas. Pass observed=False to retain current behavior or observed=True to adopt the future default and silence this warning.\n",
      "  df.groupby(\"team_size_group\")[\"JobSatisfaction\"].mean().reset_index()\n"
     ]
    },
    {
     "data": {
      "text/html": [
       "<div>\n",
       "<style scoped>\n",
       "    .dataframe tbody tr th:only-of-type {\n",
       "        vertical-align: middle;\n",
       "    }\n",
       "\n",
       "    .dataframe tbody tr th {\n",
       "        vertical-align: top;\n",
       "    }\n",
       "\n",
       "    .dataframe thead th {\n",
       "        text-align: right;\n",
       "    }\n",
       "</style>\n",
       "<table border=\"1\" class=\"dataframe\">\n",
       "  <thead>\n",
       "    <tr style=\"text-align: right;\">\n",
       "      <th></th>\n",
       "      <th>team_size_group</th>\n",
       "      <th>JobSatisfaction</th>\n",
       "    </tr>\n",
       "  </thead>\n",
       "  <tbody>\n",
       "    <tr>\n",
       "      <th>0</th>\n",
       "      <td>1-5</td>\n",
       "      <td>3.402062</td>\n",
       "    </tr>\n",
       "    <tr>\n",
       "      <th>1</th>\n",
       "      <td>6-10</td>\n",
       "      <td>3.370840</td>\n",
       "    </tr>\n",
       "    <tr>\n",
       "      <th>2</th>\n",
       "      <td>11-15</td>\n",
       "      <td>3.405080</td>\n",
       "    </tr>\n",
       "    <tr>\n",
       "      <th>3</th>\n",
       "      <td>16-20</td>\n",
       "      <td>3.383784</td>\n",
       "    </tr>\n",
       "    <tr>\n",
       "      <th>4</th>\n",
       "      <td>21-25</td>\n",
       "      <td>3.367568</td>\n",
       "    </tr>\n",
       "    <tr>\n",
       "      <th>5</th>\n",
       "      <td>26-30</td>\n",
       "      <td>3.429134</td>\n",
       "    </tr>\n",
       "  </tbody>\n",
       "</table>\n",
       "</div>"
      ],
      "text/plain": [
       "  team_size_group  JobSatisfaction\n",
       "0             1-5         3.402062\n",
       "1            6-10         3.370840\n",
       "2           11-15         3.405080\n",
       "3           16-20         3.383784\n",
       "4           21-25         3.367568\n",
       "5           26-30         3.429134"
      ]
     },
     "execution_count": 308,
     "metadata": {},
     "output_type": "execute_result"
    }
   ],
   "source": [
    "df.groupby(\"team_size_group\")[\"JobSatisfaction\"].mean().reset_index()"
   ]
  },
  {
   "cell_type": "code",
   "execution_count": null,
   "id": "9cc65102-4143-4a12-aa75-138e76233f6c",
   "metadata": {},
   "outputs": [],
   "source": [
    "##32. Are employees with higher training hours more likely to report higher job satisfaction? "
   ]
  },
  {
   "cell_type": "code",
   "execution_count": 312,
   "id": "6edf9c18-2d94-41f8-9ffc-18b70d5b2310",
   "metadata": {},
   "outputs": [
    {
     "data": {
      "text/plain": [
       "-0.005604895706623596"
      ]
     },
     "execution_count": 312,
     "metadata": {},
     "output_type": "execute_result"
    }
   ],
   "source": [
    "df['TrainingHoursPerYear'].corr(df[\"JobSatisfaction\"])"
   ]
  },
  {
   "cell_type": "code",
   "execution_count": null,
   "id": "e8178f4c-d357-4bb3-9cab-74be1f482a70",
   "metadata": {},
   "outputs": [],
   "source": [
    "\"\"\"No\"\""
   ]
  },
  {
   "cell_type": "code",
   "execution_count": 314,
   "id": "184ae472-9f43-448d-a257-19d9958462bb",
   "metadata": {},
   "outputs": [
    {
     "data": {
      "text/plain": [
       "<Axes: xlabel='TrainingHoursPerYear', ylabel='JobSatisfaction'>"
      ]
     },
     "execution_count": 314,
     "metadata": {},
     "output_type": "execute_result"
    },
    {
     "data": {
      "image/png": "[encoded data removed]",
      "text/plain": [
       "<Figure size 640x480 with 1 Axes>"
      ]
     },
     "metadata": {},
     "output_type": "display_data"
    }
   ],
   "source": [
    "sns.scatterplot( x = \"TrainingHoursPerYear\", y = \"JobSatisfaction\", data = df)"
   ]
  },
  {
   "cell_type": "code",
   "execution_count": null,
   "id": "cb853890-90b0-4ebb-9ab5-5543d8a477f2",
   "metadata": {},
   "outputs": [],
   "source": [
    "##33. How does job satisfaction vary between employees with different commute modes?  "
   ]
  },
  {
   "cell_type": "code",
   "execution_count": 320,
   "id": "27090be6-167f-4cd8-8f76-10221510cb51",
   "metadata": {},
   "outputs": [
    {
     "data": {
      "text/html": [
       "<div>\n",
       "<style scoped>\n",
       "    .dataframe tbody tr th:only-of-type {\n",
       "        vertical-align: middle;\n",
       "    }\n",
       "\n",
       "    .dataframe tbody tr th {\n",
       "        vertical-align: top;\n",
       "    }\n",
       "\n",
       "    .dataframe thead th {\n",
       "        text-align: right;\n",
       "    }\n",
       "</style>\n",
       "<table border=\"1\" class=\"dataframe\">\n",
       "  <thead>\n",
       "    <tr style=\"text-align: right;\">\n",
       "      <th></th>\n",
       "      <th>CommuteMode</th>\n",
       "      <th>JobSatisfaction</th>\n",
       "    </tr>\n",
       "  </thead>\n",
       "  <tbody>\n",
       "    <tr>\n",
       "      <th>0</th>\n",
       "      <td>Bike</td>\n",
       "      <td>3.350917</td>\n",
       "    </tr>\n",
       "    <tr>\n",
       "      <th>1</th>\n",
       "      <td>Car</td>\n",
       "      <td>3.446182</td>\n",
       "    </tr>\n",
       "    <tr>\n",
       "      <th>2</th>\n",
       "      <td>Motorbike</td>\n",
       "      <td>3.435484</td>\n",
       "    </tr>\n",
       "    <tr>\n",
       "      <th>3</th>\n",
       "      <td>Public Transport</td>\n",
       "      <td>3.318436</td>\n",
       "    </tr>\n",
       "    <tr>\n",
       "      <th>4</th>\n",
       "      <td>Walk</td>\n",
       "      <td>3.377104</td>\n",
       "    </tr>\n",
       "  </tbody>\n",
       "</table>\n",
       "</div>"
      ],
      "text/plain": [
       "        CommuteMode  JobSatisfaction\n",
       "0              Bike         3.350917\n",
       "1               Car         3.446182\n",
       "2         Motorbike         3.435484\n",
       "3  Public Transport         3.318436\n",
       "4              Walk         3.377104"
      ]
     },
     "execution_count": 320,
     "metadata": {},
     "output_type": "execute_result"
    }
   ],
   "source": [
    "df.groupby(\"CommuteMode\")[\"JobSatisfaction\"].mean().reset_index()"
   ]
  },
  {
   "cell_type": "code",
   "execution_count": null,
   "id": "541aaef0-590d-440b-b196-8bbc4cb718cc",
   "metadata": {},
   "outputs": [],
   "source": [
    "##34. Is there a correlation between job level and workload?  "
   ]
  },
  {
   "cell_type": "code",
   "execution_count": 326,
   "id": "437a91dd-696b-4efd-9f20-926fc1487c46",
   "metadata": {},
   "outputs": [
    {
     "data": {
      "text/plain": [
       "<Axes: xlabel='JobLevel', ylabel='Workload'>"
      ]
     },
     "execution_count": 326,
     "metadata": {},
     "output_type": "execute_result"
    },
    {
     "data": {
      "image/png": "[encoded data removed]",
      "text/plain": [
       "<Figure size 640x480 with 1 Axes>"
      ]
     },
     "metadata": {},
     "output_type": "display_data"
    }
   ],
   "source": [
    "sns.scatterplot( x = \"JobLevel\", y = \"Workload\", data =df)"
   ]
  },
  {
   "cell_type": "code",
   "execution_count": 328,
   "id": "70ca813e-c23f-4ad7-81b2-d76d31418361",
   "metadata": {},
   "outputs": [
    {
     "data": {
      "text/plain": [
       "JobLevel\n",
       "Senior            1069\n",
       "Mid                766\n",
       "Junior             602\n",
       "Lead               386\n",
       "Intern/Fresher     202\n",
       "Name: count, dtype: int64"
      ]
     },
     "execution_count": 328,
     "metadata": {},
     "output_type": "execute_result"
    }
   ],
   "source": [
    "df[\"JobLevel\"].value_counts()"
   ]
  },
  {
   "cell_type": "code",
   "execution_count": 330,
   "id": "e9965252-57a3-4d7f-b41d-8601ee880222",
   "metadata": {},
   "outputs": [],
   "source": [
    "experience_map = {'Intern/Fresher': 1,'Junior': 2,'Mid': 3,'Senior': 4,'Lead': 5}"
   ]
  },
  {
   "cell_type": "code",
   "execution_count": 332,
   "id": "cc554fcb-3262-45ee-96b8-73cabf503359",
   "metadata": {},
   "outputs": [],
   "source": [
    "df[\"JobLevel_mapped_num\"] = df[\"JobLevel\"].map(experience_map)"
   ]
  },
  {
   "cell_type": "code",
   "execution_count": 344,
   "id": "9ab08072-9d9a-4d98-b753-4c808b385be0",
   "metadata": {},
   "outputs": [
    {
     "data": {
      "text/html": [
       "<div>\n",
       "<style scoped>\n",
       "    .dataframe tbody tr th:only-of-type {\n",
       "        vertical-align: middle;\n",
       "    }\n",
       "\n",
       "    .dataframe tbody tr th {\n",
       "        vertical-align: top;\n",
       "    }\n",
       "\n",
       "    .dataframe thead th {\n",
       "        text-align: right;\n",
       "    }\n",
       "</style>\n",
       "<table border=\"1\" class=\"dataframe\">\n",
       "  <thead>\n",
       "    <tr style=\"text-align: right;\">\n",
       "      <th></th>\n",
       "      <th>JobLevel_mapped_num</th>\n",
       "      <th>Workload</th>\n",
       "    </tr>\n",
       "  </thead>\n",
       "  <tbody>\n",
       "    <tr>\n",
       "      <th>JobLevel_mapped_num</th>\n",
       "      <td>1.000000</td>\n",
       "      <td>-0.000868</td>\n",
       "    </tr>\n",
       "    <tr>\n",
       "      <th>Workload</th>\n",
       "      <td>-0.000868</td>\n",
       "      <td>1.000000</td>\n",
       "    </tr>\n",
       "  </tbody>\n",
       "</table>\n",
       "</div>"
      ],
      "text/plain": [
       "                     JobLevel_mapped_num  Workload\n",
       "JobLevel_mapped_num             1.000000 -0.000868\n",
       "Workload                       -0.000868  1.000000"
      ]
     },
     "execution_count": 344,
     "metadata": {},
     "output_type": "execute_result"
    }
   ],
   "source": [
    "df[[\"JobLevel_mapped_num\", \"Workload\"]].corr()"
   ]
  },
  {
   "cell_type": "code",
   "execution_count": 338,
   "id": "3910dbd0-a0ed-47f7-ae2f-40cc1ce4e26d",
   "metadata": {},
   "outputs": [
    {
     "data": {
      "text/plain": [
       "'Based on the data, job level does not predict or influence workload — everyone seems to be working just as hard regardless of level '"
      ]
     },
     "execution_count": 338,
     "metadata": {},
     "output_type": "execute_result"
    }
   ],
   "source": [
    "\"\"\"Based on the data, job level does not predict or influence workload — everyone seems to be working just as hard regardless of level \"\"\""
   ]
  },
  {
   "cell_type": "code",
   "execution_count": null,
   "id": "96fbcae7-0341-4e7b-87d8-778790e0b57f",
   "metadata": {},
   "outputs": [],
   "source": [
    "##35. How does job satisfaction differ between employees with different levels of physical activity?  "
   ]
  },
  {
   "cell_type": "code",
   "execution_count": 348,
   "id": "44c29bb2-36df-4120-96af-3d00f5e4bfe3",
   "metadata": {},
   "outputs": [],
   "source": [
    "bins = [0, 0.5, 1.5, 3, 4.5, 5]\n",
    "labels = ['Inactive', 'Very Light', 'Light', 'Moderate', 'Active']\n",
    "df['activity_level'] = pd.cut(df['PhysicalActivityHours(Weekly)'], bins=bins, labels=labels, include_lowest=True)"
   ]
  },
  {
   "cell_type": "code",
   "execution_count": 350,
   "id": "bdefabca-28c0-448c-9725-dd5ba99829d3",
   "metadata": {},
   "outputs": [
    {
     "data": {
      "text/html": [
       "<div>\n",
       "<style scoped>\n",
       "    .dataframe tbody tr th:only-of-type {\n",
       "        vertical-align: middle;\n",
       "    }\n",
       "\n",
       "    .dataframe tbody tr th {\n",
       "        vertical-align: top;\n",
       "    }\n",
       "\n",
       "    .dataframe thead th {\n",
       "        text-align: right;\n",
       "    }\n",
       "</style>\n",
       "<table border=\"1\" class=\"dataframe\">\n",
       "  <thead>\n",
       "    <tr style=\"text-align: right;\">\n",
       "      <th></th>\n",
       "      <th>EmpID</th>\n",
       "      <th>Gender</th>\n",
       "      <th>Age</th>\n",
       "      <th>MaritalStatus</th>\n",
       "      <th>JobLevel</th>\n",
       "      <th>Experience</th>\n",
       "      <th>Dept</th>\n",
       "      <th>EmpType</th>\n",
       "      <th>WLB(Work Life Balance)</th>\n",
       "      <th>WorkEnv</th>\n",
       "      <th>PhysicalActivityHours(Weekly)</th>\n",
       "      <th>Workload</th>\n",
       "      <th>Stress</th>\n",
       "      <th>SleepHours</th>\n",
       "      <th>CommuteMode</th>\n",
       "      <th>CommuteDistance (KM)</th>\n",
       "      <th>NumCompanies</th>\n",
       "      <th>TeamSize</th>\n",
       "      <th>NumReports</th>\n",
       "      <th>EduLevel</th>\n",
       "      <th>haveOT (Overtime)</th>\n",
       "      <th>TrainingHoursPerYear</th>\n",
       "      <th>JobSatisfaction</th>\n",
       "      <th>Age_groups</th>\n",
       "      <th>activity_group</th>\n",
       "      <th>experience_group</th>\n",
       "      <th>commute_group</th>\n",
       "      <th>team_size_group</th>\n",
       "      <th>JobLevel_mapped_num</th>\n",
       "      <th>activity_level</th>\n",
       "    </tr>\n",
       "  </thead>\n",
       "  <tbody>\n",
       "    <tr>\n",
       "      <th>0</th>\n",
       "      <td>6</td>\n",
       "      <td>Male</td>\n",
       "      <td>32</td>\n",
       "      <td>Married</td>\n",
       "      <td>Mid</td>\n",
       "      <td>7</td>\n",
       "      <td>IT</td>\n",
       "      <td>Full-Time</td>\n",
       "      <td>1</td>\n",
       "      <td>1</td>\n",
       "      <td>2.5</td>\n",
       "      <td>2</td>\n",
       "      <td>1</td>\n",
       "      <td>7.6</td>\n",
       "      <td>Car</td>\n",
       "      <td>20</td>\n",
       "      <td>3</td>\n",
       "      <td>12</td>\n",
       "      <td>0</td>\n",
       "      <td>Bachelor</td>\n",
       "      <td>True</td>\n",
       "      <td>33.5</td>\n",
       "      <td>5</td>\n",
       "      <td>31-35</td>\n",
       "      <td>Moderate</td>\n",
       "      <td>6-10 yrs</td>\n",
       "      <td>16–20 km</td>\n",
       "      <td>11-15</td>\n",
       "      <td>3</td>\n",
       "      <td>Light</td>\n",
       "    </tr>\n",
       "    <tr>\n",
       "      <th>1</th>\n",
       "      <td>11</td>\n",
       "      <td>Female</td>\n",
       "      <td>34</td>\n",
       "      <td>Married</td>\n",
       "      <td>Mid</td>\n",
       "      <td>12</td>\n",
       "      <td>Finance</td>\n",
       "      <td>Full-Time</td>\n",
       "      <td>1</td>\n",
       "      <td>1</td>\n",
       "      <td>1.8</td>\n",
       "      <td>2</td>\n",
       "      <td>2</td>\n",
       "      <td>7.9</td>\n",
       "      <td>Car</td>\n",
       "      <td>15</td>\n",
       "      <td>4</td>\n",
       "      <td>11</td>\n",
       "      <td>0</td>\n",
       "      <td>Bachelor</td>\n",
       "      <td>False</td>\n",
       "      <td>36.0</td>\n",
       "      <td>5</td>\n",
       "      <td>31-35</td>\n",
       "      <td>Low</td>\n",
       "      <td>11-15 yrs</td>\n",
       "      <td>11–15 km</td>\n",
       "      <td>11-15</td>\n",
       "      <td>3</td>\n",
       "      <td>Light</td>\n",
       "    </tr>\n",
       "    <tr>\n",
       "      <th>2</th>\n",
       "      <td>33</td>\n",
       "      <td>Female</td>\n",
       "      <td>23</td>\n",
       "      <td>Single</td>\n",
       "      <td>Intern/Fresher</td>\n",
       "      <td>1</td>\n",
       "      <td>Marketing</td>\n",
       "      <td>Full-Time</td>\n",
       "      <td>2</td>\n",
       "      <td>4</td>\n",
       "      <td>2.1</td>\n",
       "      <td>5</td>\n",
       "      <td>4</td>\n",
       "      <td>6.5</td>\n",
       "      <td>Motorbike</td>\n",
       "      <td>17</td>\n",
       "      <td>0</td>\n",
       "      <td>30</td>\n",
       "      <td>0</td>\n",
       "      <td>Bachelor</td>\n",
       "      <td>True</td>\n",
       "      <td>10.5</td>\n",
       "      <td>5</td>\n",
       "      <td>20-25</td>\n",
       "      <td>Moderate</td>\n",
       "      <td>1-5 yrs</td>\n",
       "      <td>16–20 km</td>\n",
       "      <td>26-30</td>\n",
       "      <td>1</td>\n",
       "      <td>Light</td>\n",
       "    </tr>\n",
       "    <tr>\n",
       "      <th>3</th>\n",
       "      <td>20</td>\n",
       "      <td>Female</td>\n",
       "      <td>29</td>\n",
       "      <td>Married</td>\n",
       "      <td>Junior</td>\n",
       "      <td>6</td>\n",
       "      <td>IT</td>\n",
       "      <td>Contract</td>\n",
       "      <td>2</td>\n",
       "      <td>2</td>\n",
       "      <td>1.9</td>\n",
       "      <td>3</td>\n",
       "      <td>1</td>\n",
       "      <td>7.5</td>\n",
       "      <td>Public Transport</td>\n",
       "      <td>13</td>\n",
       "      <td>2</td>\n",
       "      <td>9</td>\n",
       "      <td>0</td>\n",
       "      <td>Bachelor</td>\n",
       "      <td>True</td>\n",
       "      <td>23.0</td>\n",
       "      <td>5</td>\n",
       "      <td>26-30</td>\n",
       "      <td>Low</td>\n",
       "      <td>6-10 yrs</td>\n",
       "      <td>11–15 km</td>\n",
       "      <td>6-10</td>\n",
       "      <td>2</td>\n",
       "      <td>Light</td>\n",
       "    </tr>\n",
       "    <tr>\n",
       "      <th>4</th>\n",
       "      <td>28</td>\n",
       "      <td>Other</td>\n",
       "      <td>23</td>\n",
       "      <td>Single</td>\n",
       "      <td>Junior</td>\n",
       "      <td>1</td>\n",
       "      <td>Sales</td>\n",
       "      <td>Part-Time</td>\n",
       "      <td>3</td>\n",
       "      <td>1</td>\n",
       "      <td>3.7</td>\n",
       "      <td>2</td>\n",
       "      <td>1</td>\n",
       "      <td>4.9</td>\n",
       "      <td>Car</td>\n",
       "      <td>20</td>\n",
       "      <td>0</td>\n",
       "      <td>7</td>\n",
       "      <td>0</td>\n",
       "      <td>Bachelor</td>\n",
       "      <td>False</td>\n",
       "      <td>20.5</td>\n",
       "      <td>5</td>\n",
       "      <td>20-25</td>\n",
       "      <td>Moderate</td>\n",
       "      <td>1-5 yrs</td>\n",
       "      <td>16–20 km</td>\n",
       "      <td>6-10</td>\n",
       "      <td>2</td>\n",
       "      <td>Moderate</td>\n",
       "    </tr>\n",
       "  </tbody>\n",
       "</table>\n",
       "</div>"
      ],
      "text/plain": [
       "   EmpID  Gender  Age MaritalStatus        JobLevel  Experience       Dept  \\\n",
       "0      6    Male   32       Married             Mid           7         IT   \n",
       "1     11  Female   34       Married             Mid          12    Finance   \n",
       "2     33  Female   23        Single  Intern/Fresher           1  Marketing   \n",
       "3     20  Female   29       Married          Junior           6         IT   \n",
       "4     28   Other   23        Single          Junior           1      Sales   \n",
       "\n",
       "     EmpType  WLB(Work Life Balance)  WorkEnv  PhysicalActivityHours(Weekly)  \\\n",
       "0  Full-Time                       1        1                            2.5   \n",
       "1  Full-Time                       1        1                            1.8   \n",
       "2  Full-Time                       2        4                            2.1   \n",
       "3   Contract                       2        2                            1.9   \n",
       "4  Part-Time                       3        1                            3.7   \n",
       "\n",
       "   Workload  Stress  SleepHours       CommuteMode  CommuteDistance (KM)  \\\n",
       "0         2       1         7.6               Car                    20   \n",
       "1         2       2         7.9               Car                    15   \n",
       "2         5       4         6.5         Motorbike                    17   \n",
       "3         3       1         7.5  Public Transport                    13   \n",
       "4         2       1         4.9               Car                    20   \n",
       "\n",
       "   NumCompanies  TeamSize  NumReports  EduLevel  haveOT (Overtime)  \\\n",
       "0             3        12           0  Bachelor               True   \n",
       "1             4        11           0  Bachelor              False   \n",
       "2             0        30           0  Bachelor               True   \n",
       "3             2         9           0  Bachelor               True   \n",
       "4             0         7           0  Bachelor              False   \n",
       "\n",
       "   TrainingHoursPerYear  JobSatisfaction Age_groups activity_group  \\\n",
       "0                  33.5                5      31-35       Moderate   \n",
       "1                  36.0                5      31-35            Low   \n",
       "2                  10.5                5      20-25       Moderate   \n",
       "3                  23.0                5      26-30            Low   \n",
       "4                  20.5                5      20-25       Moderate   \n",
       "\n",
       "  experience_group commute_group team_size_group  JobLevel_mapped_num  \\\n",
       "0         6-10 yrs      16–20 km           11-15                    3   \n",
       "1        11-15 yrs      11–15 km           11-15                    3   \n",
       "2          1-5 yrs      16–20 km           26-30                    1   \n",
       "3         6-10 yrs      11–15 km            6-10                    2   \n",
       "4          1-5 yrs      16–20 km            6-10                    2   \n",
       "\n",
       "  activity_level  \n",
       "0          Light  \n",
       "1          Light  \n",
       "2          Light  \n",
       "3          Light  \n",
       "4       Moderate  "
      ]
     },
     "execution_count": 350,
     "metadata": {},
     "output_type": "execute_result"
    }
   ],
   "source": [
    "df.head()"
   ]
  },
  {
   "cell_type": "code",
   "execution_count": 356,
   "id": "36836d59-5c17-4a52-9dbe-cf610cddb39f",
   "metadata": {},
   "outputs": [
    {
     "name": "stderr",
     "output_type": "stream",
     "text": [
      "C:\\Users\\LENOVO\\AppData\\Local\\Temp\\ipykernel_11332\\1704504917.py:1: FutureWarning: The default of observed=False is deprecated and will be changed to True in a future version of pandas. Pass observed=False to retain current behavior or observed=True to adopt the future default and silence this warning.\n",
      "  activity_level_jobsatisfaction = df.groupby(\"activity_level\")[\"JobSatisfaction\"].mean().reset_index()\n"
     ]
    }
   ],
   "source": [
    "activity_level_jobsatisfaction = df.groupby(\"activity_level\")[\"JobSatisfaction\"].mean().reset_index()"
   ]
  },
  {
   "cell_type": "code",
   "execution_count": 360,
   "id": "51c2fae8-1b9b-4ea6-aa5b-34e3e44c288b",
   "metadata": {},
   "outputs": [
    {
     "data": {
      "text/html": [
       "<div>\n",
       "<style scoped>\n",
       "    .dataframe tbody tr th:only-of-type {\n",
       "        vertical-align: middle;\n",
       "    }\n",
       "\n",
       "    .dataframe tbody tr th {\n",
       "        vertical-align: top;\n",
       "    }\n",
       "\n",
       "    .dataframe thead th {\n",
       "        text-align: right;\n",
       "    }\n",
       "</style>\n",
       "<table border=\"1\" class=\"dataframe\">\n",
       "  <thead>\n",
       "    <tr style=\"text-align: right;\">\n",
       "      <th></th>\n",
       "      <th>activity_level</th>\n",
       "      <th>JobSatisfaction</th>\n",
       "    </tr>\n",
       "  </thead>\n",
       "  <tbody>\n",
       "    <tr>\n",
       "      <th>0</th>\n",
       "      <td>Inactive</td>\n",
       "      <td>3.346535</td>\n",
       "    </tr>\n",
       "    <tr>\n",
       "      <th>1</th>\n",
       "      <td>Very Light</td>\n",
       "      <td>3.339096</td>\n",
       "    </tr>\n",
       "    <tr>\n",
       "      <th>2</th>\n",
       "      <td>Light</td>\n",
       "      <td>3.452012</td>\n",
       "    </tr>\n",
       "    <tr>\n",
       "      <th>3</th>\n",
       "      <td>Moderate</td>\n",
       "      <td>3.253363</td>\n",
       "    </tr>\n",
       "    <tr>\n",
       "      <th>4</th>\n",
       "      <td>Active</td>\n",
       "      <td>3.200000</td>\n",
       "    </tr>\n",
       "  </tbody>\n",
       "</table>\n",
       "</div>"
      ],
      "text/plain": [
       "  activity_level  JobSatisfaction\n",
       "0       Inactive         3.346535\n",
       "1     Very Light         3.339096\n",
       "2          Light         3.452012\n",
       "3       Moderate         3.253363\n",
       "4         Active         3.200000"
      ]
     },
     "execution_count": 360,
     "metadata": {},
     "output_type": "execute_result"
    }
   ],
   "source": [
    "activity_level_jobsatisfaction"
   ]
  },
  {
   "cell_type": "code",
   "execution_count": null,
   "id": "d5b452f1-4e5f-4384-96b0-303ab3266245",
   "metadata": {},
   "outputs": [],
   "source": [
    "##36. Are employees with higher stress levels more likely to report lower job satisfaction?  "
   ]
  },
  {
   "cell_type": "code",
   "execution_count": 364,
   "id": "f6a91882-b09a-4e81-b7bf-9073a61a3de2",
   "metadata": {},
   "outputs": [
    {
     "data": {
      "text/html": [
       "<div>\n",
       "<style scoped>\n",
       "    .dataframe tbody tr th:only-of-type {\n",
       "        vertical-align: middle;\n",
       "    }\n",
       "\n",
       "    .dataframe tbody tr th {\n",
       "        vertical-align: top;\n",
       "    }\n",
       "\n",
       "    .dataframe thead th {\n",
       "        text-align: right;\n",
       "    }\n",
       "</style>\n",
       "<table border=\"1\" class=\"dataframe\">\n",
       "  <thead>\n",
       "    <tr style=\"text-align: right;\">\n",
       "      <th></th>\n",
       "      <th>Stress</th>\n",
       "      <th>JobSatisfaction</th>\n",
       "    </tr>\n",
       "  </thead>\n",
       "  <tbody>\n",
       "    <tr>\n",
       "      <th>Stress</th>\n",
       "      <td>1.000000</td>\n",
       "      <td>-0.214383</td>\n",
       "    </tr>\n",
       "    <tr>\n",
       "      <th>JobSatisfaction</th>\n",
       "      <td>-0.214383</td>\n",
       "      <td>1.000000</td>\n",
       "    </tr>\n",
       "  </tbody>\n",
       "</table>\n",
       "</div>"
      ],
      "text/plain": [
       "                   Stress  JobSatisfaction\n",
       "Stress           1.000000        -0.214383\n",
       "JobSatisfaction -0.214383         1.000000"
      ]
     },
     "execution_count": 364,
     "metadata": {},
     "output_type": "execute_result"
    }
   ],
   "source": [
    "df[[\"Stress\",\"JobSatisfaction\"]].corr()"
   ]
  },
  {
   "cell_type": "code",
   "execution_count": 366,
   "id": "206791d2-faa5-45da-ab7f-11679ccad2e1",
   "metadata": {},
   "outputs": [
    {
     "data": {
      "text/plain": [
       "'There is a weak negative correlation (r = -0.21) between stress levels and job satisfaction, indicating that employees with higher stress levels tend to report slightly lower job satisfaction.'"
      ]
     },
     "execution_count": 366,
     "metadata": {},
     "output_type": "execute_result"
    }
   ],
   "source": [
    "\"\"\"There is a weak negative correlation (r = -0.21) between stress levels and job satisfaction, indicating that employees with higher stress levels tend to report slightly lower job satisfaction.\"\"\""
   ]
  },
  {
   "cell_type": "code",
   "execution_count": null,
   "id": "c696497b-130a-4562-8060-1ea10a195741",
   "metadata": {},
   "outputs": [],
   "source": [
    "##37. How does job satisfaction vary between employees with different commute distances?"
   ]
  },
  {
   "cell_type": "code",
   "execution_count": 370,
   "id": "14dc2527-2bfa-4ac8-8487-6ac2bcf4d39a",
   "metadata": {},
   "outputs": [
    {
     "name": "stderr",
     "output_type": "stream",
     "text": [
      "C:\\Users\\LENOVO\\AppData\\Local\\Temp\\ipykernel_11332\\977896775.py:1: FutureWarning: The default of observed=False is deprecated and will be changed to True in a future version of pandas. Pass observed=False to retain current behavior or observed=True to adopt the future default and silence this warning.\n",
      "  df.groupby(\"commute_group\")[\"JobSatisfaction\"].mean()\n"
     ]
    },
    {
     "data": {
      "text/plain": [
       "commute_group\n",
       "0–5 km      3.400000\n",
       "6–10 km     3.377219\n",
       "11–15 km    3.382979\n",
       "16–20 km    3.351579\n",
       "21–25 km    3.412301\n",
       "26–30 km    3.403077\n",
       "Name: JobSatisfaction, dtype: float64"
      ]
     },
     "execution_count": 370,
     "metadata": {},
     "output_type": "execute_result"
    }
   ],
   "source": [
    "df.groupby(\"commute_group\")[\"JobSatisfaction\"].mean()"
   ]
  },
  {
   "cell_type": "code",
   "execution_count": null,
   "id": "f94d9ef2-4df2-4f94-a610-3757e8bda6ef",
   "metadata": {},
   "outputs": [],
   "source": [
    "##38. Is there a relationship between age and work-life balance? "
   ]
  },
  {
   "cell_type": "code",
   "execution_count": 372,
   "id": "7851419f-23dd-497e-a25b-a59eab91b36c",
   "metadata": {},
   "outputs": [
    {
     "data": {
      "text/html": [
       "<div>\n",
       "<style scoped>\n",
       "    .dataframe tbody tr th:only-of-type {\n",
       "        vertical-align: middle;\n",
       "    }\n",
       "\n",
       "    .dataframe tbody tr th {\n",
       "        vertical-align: top;\n",
       "    }\n",
       "\n",
       "    .dataframe thead th {\n",
       "        text-align: right;\n",
       "    }\n",
       "</style>\n",
       "<table border=\"1\" class=\"dataframe\">\n",
       "  <thead>\n",
       "    <tr style=\"text-align: right;\">\n",
       "      <th></th>\n",
       "      <th>Age</th>\n",
       "      <th>WLB(Work Life Balance)</th>\n",
       "    </tr>\n",
       "  </thead>\n",
       "  <tbody>\n",
       "    <tr>\n",
       "      <th>Age</th>\n",
       "      <td>1.00000</td>\n",
       "      <td>-0.01476</td>\n",
       "    </tr>\n",
       "    <tr>\n",
       "      <th>WLB(Work Life Balance)</th>\n",
       "      <td>-0.01476</td>\n",
       "      <td>1.00000</td>\n",
       "    </tr>\n",
       "  </tbody>\n",
       "</table>\n",
       "</div>"
      ],
      "text/plain": [
       "                            Age  WLB(Work Life Balance)\n",
       "Age                     1.00000                -0.01476\n",
       "WLB(Work Life Balance) -0.01476                 1.00000"
      ]
     },
     "execution_count": 372,
     "metadata": {},
     "output_type": "execute_result"
    }
   ],
   "source": [
    "df[[\"Age\", \"WLB(Work Life Balance)\"]].corr()"
   ]
  },
  {
   "cell_type": "code",
   "execution_count": 374,
   "id": "85444a5d-76e0-4ebb-8a0d-bdad7463610a",
   "metadata": {},
   "outputs": [
    {
     "data": {
      "text/plain": [
       "'The correlation between age and work-life balance is approximately zero (r = -0.015), indicating no meaningful linear relationship between the two variables.'"
      ]
     },
     "execution_count": 374,
     "metadata": {},
     "output_type": "execute_result"
    }
   ],
   "source": [
    "\"\"\"The correlation between age and work-life balance is approximately zero (r = -0.015), indicating no meaningful linear relationship between the two variables.\"\"\""
   ]
  },
  {
   "cell_type": "code",
   "execution_count": 380,
   "id": "704340e3-beab-4ae7-bc17-35e1abcc7bea",
   "metadata": {},
   "outputs": [
    {
     "name": "stderr",
     "output_type": "stream",
     "text": [
      "C:\\Users\\LENOVO\\AppData\\Local\\Temp\\ipykernel_11332\\1726620393.py:1: FutureWarning: The default of observed=False is deprecated and will be changed to True in a future version of pandas. Pass observed=False to retain current behavior or observed=True to adopt the future default and silence this warning.\n",
      "  df.groupby(\"Age_groups\")['WLB(Work Life Balance)'].mean().reset_index(name = 'Average Work Life Balance')\n"
     ]
    },
    {
     "data": {
      "text/html": [
       "<div>\n",
       "<style scoped>\n",
       "    .dataframe tbody tr th:only-of-type {\n",
       "        vertical-align: middle;\n",
       "    }\n",
       "\n",
       "    .dataframe tbody tr th {\n",
       "        vertical-align: top;\n",
       "    }\n",
       "\n",
       "    .dataframe thead th {\n",
       "        text-align: right;\n",
       "    }\n",
       "</style>\n",
       "<table border=\"1\" class=\"dataframe\">\n",
       "  <thead>\n",
       "    <tr style=\"text-align: right;\">\n",
       "      <th></th>\n",
       "      <th>Age_groups</th>\n",
       "      <th>Average Work Life Balance</th>\n",
       "    </tr>\n",
       "  </thead>\n",
       "  <tbody>\n",
       "    <tr>\n",
       "      <th>0</th>\n",
       "      <td>20-25</td>\n",
       "      <td>3.086294</td>\n",
       "    </tr>\n",
       "    <tr>\n",
       "      <th>1</th>\n",
       "      <td>26-30</td>\n",
       "      <td>3.080769</td>\n",
       "    </tr>\n",
       "    <tr>\n",
       "      <th>2</th>\n",
       "      <td>31-35</td>\n",
       "      <td>3.047170</td>\n",
       "    </tr>\n",
       "    <tr>\n",
       "      <th>3</th>\n",
       "      <td>36-40</td>\n",
       "      <td>3.043561</td>\n",
       "    </tr>\n",
       "    <tr>\n",
       "      <th>4</th>\n",
       "      <td>41-45</td>\n",
       "      <td>3.243590</td>\n",
       "    </tr>\n",
       "    <tr>\n",
       "      <th>5</th>\n",
       "      <td>45-50</td>\n",
       "      <td>3.007380</td>\n",
       "    </tr>\n",
       "    <tr>\n",
       "      <th>6</th>\n",
       "      <td>51-55</td>\n",
       "      <td>2.961207</td>\n",
       "    </tr>\n",
       "    <tr>\n",
       "      <th>7</th>\n",
       "      <td>56-60</td>\n",
       "      <td>2.949580</td>\n",
       "    </tr>\n",
       "    <tr>\n",
       "      <th>8</th>\n",
       "      <td>61-65</td>\n",
       "      <td>NaN</td>\n",
       "    </tr>\n",
       "  </tbody>\n",
       "</table>\n",
       "</div>"
      ],
      "text/plain": [
       "  Age_groups  Average Work Life Balance\n",
       "0      20-25                   3.086294\n",
       "1      26-30                   3.080769\n",
       "2      31-35                   3.047170\n",
       "3      36-40                   3.043561\n",
       "4      41-45                   3.243590\n",
       "5      45-50                   3.007380\n",
       "6      51-55                   2.961207\n",
       "7      56-60                   2.949580\n",
       "8      61-65                        NaN"
      ]
     },
     "execution_count": 380,
     "metadata": {},
     "output_type": "execute_result"
    }
   ],
   "source": [
    "df.groupby(\"Age_groups\")['WLB(Work Life Balance)'].mean().reset_index(name = 'Average Work Life Balance')"
   ]
  },
  {
   "cell_type": "code",
   "execution_count": null,
   "id": "7d152547-4ead-4bc8-9f20-774bdf8ac161",
   "metadata": {},
   "outputs": [],
   "source": [
    "##39. How does job satisfaction differ between employees with different job types (e.g., Contract, Part-Time, Full-Time)? "
   ]
  },
  {
   "cell_type": "code",
   "execution_count": 384,
   "id": "dd52d9be-c6a5-4a6f-8adb-799573b9fc68",
   "metadata": {},
   "outputs": [
    {
     "data": {
      "text/plain": [
       "EmpType\n",
       "Contract     3.376623\n",
       "Full-Time    3.400096\n",
       "Part-Time    3.348438\n",
       "Name: JobSatisfaction, dtype: float64"
      ]
     },
     "execution_count": 384,
     "metadata": {},
     "output_type": "execute_result"
    }
   ],
   "source": [
    "df.groupby(\"EmpType\")[\"JobSatisfaction\"].mean()"
   ]
  },
  {
   "cell_type": "code",
   "execution_count": null,
   "id": "bbd682be-1e2a-4667-a3d6-6f03d903b190",
   "metadata": {},
   "outputs": [],
   "source": [
    "##40. Are employees with higher sleep hours more likely to report higher job satisfaction?"
   ]
  },
  {
   "cell_type": "code",
   "execution_count": 392,
   "id": "fb91b880-283e-40d5-af10-c0ccc1912cf1",
   "metadata": {},
   "outputs": [],
   "source": [
    "bins = [1, 3, 5, 6.5, 8, 10]\n",
    "labels = ['Severely Sleep Deprived', 'Sleep Deprived', 'Insufficient', 'Normal', 'Well Rested']\n",
    "df['sleep_category'] = pd.cut(df['SleepHours'], bins=bins, labels=labels, include_lowest=True)"
   ]
  },
  {
   "cell_type": "code",
   "execution_count": 398,
   "id": "ae7b6ffe-0292-4ba2-ae0d-11bd8fcf699d",
   "metadata": {},
   "outputs": [
    {
     "name": "stderr",
     "output_type": "stream",
     "text": [
      "C:\\Users\\LENOVO\\AppData\\Local\\Temp\\ipykernel_11332\\2391148026.py:1: FutureWarning: The default of observed=False is deprecated and will be changed to True in a future version of pandas. Pass observed=False to retain current behavior or observed=True to adopt the future default and silence this warning.\n",
      "  df.groupby(\"sleep_category\")[\"JobSatisfaction\"].mean().reset_index()\n"
     ]
    },
    {
     "data": {
      "text/html": [
       "<div>\n",
       "<style scoped>\n",
       "    .dataframe tbody tr th:only-of-type {\n",
       "        vertical-align: middle;\n",
       "    }\n",
       "\n",
       "    .dataframe tbody tr th {\n",
       "        vertical-align: top;\n",
       "    }\n",
       "\n",
       "    .dataframe thead th {\n",
       "        text-align: right;\n",
       "    }\n",
       "</style>\n",
       "<table border=\"1\" class=\"dataframe\">\n",
       "  <thead>\n",
       "    <tr style=\"text-align: right;\">\n",
       "      <th></th>\n",
       "      <th>sleep_category</th>\n",
       "      <th>JobSatisfaction</th>\n",
       "    </tr>\n",
       "  </thead>\n",
       "  <tbody>\n",
       "    <tr>\n",
       "      <th>0</th>\n",
       "      <td>Severely Sleep Deprived</td>\n",
       "      <td>NaN</td>\n",
       "    </tr>\n",
       "    <tr>\n",
       "      <th>1</th>\n",
       "      <td>Sleep Deprived</td>\n",
       "      <td>2.957143</td>\n",
       "    </tr>\n",
       "    <tr>\n",
       "      <th>2</th>\n",
       "      <td>Insufficient</td>\n",
       "      <td>3.198267</td>\n",
       "    </tr>\n",
       "    <tr>\n",
       "      <th>3</th>\n",
       "      <td>Normal</td>\n",
       "      <td>3.400892</td>\n",
       "    </tr>\n",
       "    <tr>\n",
       "      <th>4</th>\n",
       "      <td>Well Rested</td>\n",
       "      <td>3.779698</td>\n",
       "    </tr>\n",
       "  </tbody>\n",
       "</table>\n",
       "</div>"
      ],
      "text/plain": [
       "            sleep_category  JobSatisfaction\n",
       "0  Severely Sleep Deprived              NaN\n",
       "1           Sleep Deprived         2.957143\n",
       "2             Insufficient         3.198267\n",
       "3                   Normal         3.400892\n",
       "4              Well Rested         3.779698"
      ]
     },
     "execution_count": 398,
     "metadata": {},
     "output_type": "execute_result"
    }
   ],
   "source": [
    "df.groupby(\"sleep_category\")[\"JobSatisfaction\"].mean().reset_index()"
   ]
  },
  {
   "cell_type": "code",
   "execution_count": 400,
   "id": "2c23b1f7-ccc2-4b8c-b282-9bebce5df684",
   "metadata": {},
   "outputs": [
    {
     "data": {
      "text/plain": [
       "'Apparently, Employees in the normal and well rested sleep category have the highest job satisfaction levels'"
      ]
     },
     "execution_count": 400,
     "metadata": {},
     "output_type": "execute_result"
    }
   ],
   "source": [
    "\"\"\"Apparently, Employees in the normal and well rested sleep category have the highest job satisfaction levels\"\"\""
   ]
  },
  {
   "cell_type": "code",
   "execution_count": null,
   "id": "45e50e7a-2862-4d24-a5a6-379a1c8eb320",
   "metadata": {},
   "outputs": [],
   "source": []
  },
  {
   "cell_type": "code",
   "execution_count": null,
   "id": "2eb13d12-ea57-4167-9125-9f423e6d182e",
   "metadata": {},
   "outputs": [],
   "source": []
  },
  {
   "cell_type": "code",
   "execution_count": null,
   "id": "9636926e-0e80-4aca-b2fd-c02cf557c88c",
   "metadata": {},
   "outputs": [],
   "source": []
  },
  {
   "cell_type": "code",
   "execution_count": null,
   "id": "f47e6e1a-69ef-4950-8b5b-fe236bb6e309",
   "metadata": {},
   "outputs": [],
   "source": []
  },
  {
   "cell_type": "code",
   "execution_count": null,
   "id": "a87af534-ed40-4cb7-8cc0-fd9706ab4695",
   "metadata": {},
   "outputs": [],
   "source": []
  },
  {
   "cell_type": "code",
   "execution_count": null,
   "id": "babbfde9-a446-4767-b8d6-ece4ac38f5ee",
   "metadata": {},
   "outputs": [],
   "source": [
    "\n",
    " \n",
    "  \n",
    "\n",
    "\n",
    " \n",
    "  \n",
    " \n",
    "  \n",
    " \n",
    "\n",
    " \n",
    "  \n",
    " \n",
    "\n",
    "\n",
    " \n",
    "\n",
    "\n",
    "\n",
    "\n",
    "  \n",
    " \n",
    " \n"
   ]
  }
 ],
 "metadata": {
  "kernelspec": {
   "display_name": "Python 3 (ipykernel)",
   "language": "python",
   "name": "python3"
  },
  "language_info": {
   "codemirror_mode": {
    "name": "ipython",
    "version": 3
   },
   "file_extension": ".py",
   "mimetype": "text/x-python",
   "name": "python",
   "nbconvert_exporter": "python",
   "pygments_lexer": "ipython3",
   "version": "3.12.4"
  }
 },
 "nbformat": 4,
 "nbformat_minor": 5
}
